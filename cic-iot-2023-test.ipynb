{
 "cells": [
  {
   "cell_type": "markdown",
   "metadata": {},
   "source": [
    "## The CIC-IoT-2023 Experiment!"
   ]
  },
  {
   "cell_type": "code",
   "execution_count": 1,
   "metadata": {},
   "outputs": [],
   "source": [
    "import os\n",
    "import vote\n",
    "import pickle\n",
    "import warnings\n",
    "import functools\n",
    "import numpy as np\n",
    "import portion as P\n",
    "import pandas as pd\n",
    "from tqdm import tqdm\n",
    "from collections import Counter\n",
    "warnings.filterwarnings(\"ignore\")\n",
    "np.set_printoptions(suppress=True)\n",
    "from xgboost import XGBClassifier\n",
    "from catboost import CatBoostClassifier\n",
    "from scipy.spatial.distance import cosine\n",
    "from sklearn.metrics import confusion_matrix\n",
    "from sklearn.preprocessing import MinMaxScaler\n",
    "from sklearn.ensemble import RandomForestClassifier\n",
    "from sklearn.model_selection import train_test_split\n",
    "from imblearn.over_sampling import RandomOverSampler\n",
    "from imblearn.under_sampling import RandomUnderSampler\n",
    "from sklearn.metrics import accuracy_score, recall_score, precision_score, f1_score, matthews_corrcoef"
   ]
  },
  {
   "cell_type": "code",
   "execution_count": 2,
   "metadata": {},
   "outputs": [],
   "source": [
    "repo_dir = \"CIC-IoT-2023-Dataset\"\n",
    "if not os.path.exists(repo_dir):\n",
    "    !git clone https://github.com/val-co/CIC-IoT-2023-Dataset.git\n",
    "\n",
    "DATASET_DIRECTORY = '/home/ubuntu/IDS/CIC-IoT-2023-Dataset/'"
   ]
  },
  {
   "cell_type": "code",
   "execution_count": 3,
   "metadata": {},
   "outputs": [
    {
     "name": "stdout",
     "output_type": "stream",
     "text": [
      "['part-00000-363d1ba3-8ab5-4f96-bc25-4d5862db7cb9-c000.csv']\n"
     ]
    }
   ],
   "source": [
    "df_sets = [k for k in os.listdir(DATASET_DIRECTORY) if k.endswith('.csv')]\n",
    "df_sets.sort()\n",
    "dataset = df_sets[:int(len(df_sets)*.1)]\n",
    "print(dataset)"
   ]
  },
  {
   "cell_type": "code",
   "execution_count": 4,
   "metadata": {},
   "outputs": [
    {
     "name": "stderr",
     "output_type": "stream",
     "text": [
      "100%|██████████| 1/1 [00:01<00:00,  1.57s/it]\n"
     ]
    }
   ],
   "source": [
    "X_columns = [\n",
    "    'flow_duration', 'Header_Length', 'Protocol Type', 'Duration',\n",
    "       'Rate', 'Srate', 'Drate', 'fin_flag_number', 'syn_flag_number',\n",
    "       'rst_flag_number', 'psh_flag_number', 'ack_flag_number',\n",
    "       'ece_flag_number', 'cwr_flag_number', 'ack_count',\n",
    "       'syn_count', 'fin_count', 'urg_count', 'rst_count', \n",
    "    'HTTP', 'HTTPS', 'DNS', 'Telnet', 'SMTP', 'SSH', 'IRC', 'TCP',\n",
    "       'UDP', 'DHCP', 'ARP', 'ICMP', 'IPv', 'LLC', 'Tot sum', 'Min',\n",
    "       'Max', 'AVG', 'Std', 'Tot size', 'IAT', 'Number', 'Magnitue',\n",
    "       'Radius', 'Covariance', 'Variance', 'Weight', \n",
    "]\n",
    "y_column = 'label'\n",
    "\n",
    "scaler = MinMaxScaler()\n",
    "\n",
    "for data in tqdm(dataset):\n",
    "    scaler.fit(pd.read_csv(DATASET_DIRECTORY + data)[X_columns])"
   ]
  },
  {
   "cell_type": "code",
   "execution_count": 5,
   "metadata": {},
   "outputs": [],
   "source": [
    "dict_2classes = {\n",
    "    'DDoS-RSTFINFlood': 1,\n",
    "    'DDoS-PSHACK_Flood': 1,\n",
    "    'DDoS-SYN_Flood': 1,\n",
    "    'DDoS-UDP_Flood': 1,\n",
    "    'DDoS-TCP_Flood': 1,\n",
    "    'DDoS-ICMP_Flood': 1,\n",
    "    'DDoS-SynonymousIP_Flood': 1,\n",
    "    'DDoS-ACK_Fragmentation': 1,\n",
    "    'DDoS-UDP_Fragmentation': 1,\n",
    "    'DDoS-ICMP_Fragmentation': 1,\n",
    "    'DDoS-SlowLoris': 1,\n",
    "    'DDoS-HTTP_Flood': 1,\n",
    "    'DoS-UDP_Flood': 1,\n",
    "    'DoS-SYN_Flood': 1,\n",
    "    'DoS-TCP_Flood': 1,\n",
    "    'DoS-HTTP_Flood': 1,\n",
    "    'Mirai-greeth_flood': 1,\n",
    "    'Mirai-greip_flood': 1,\n",
    "    'Mirai-udpplain': 1,\n",
    "    'Recon-PingSweep': 1,\n",
    "    'Recon-OSScan': 1,\n",
    "    'Recon-PortScan': 1,\n",
    "    'VulnerabilityScan': 1,\n",
    "    'Recon-HostDiscovery': 1,\n",
    "    'DNS_Spoofing': 1,\n",
    "    'MITM-ArpSpoofing': 1,\n",
    "    'BenignTraffic': 0,\n",
    "    'BrowserHijacking': 1,\n",
    "    'Backdoor_Malware': 1,\n",
    "    'XSS': 1,\n",
    "    'Uploading_Attack': 1,\n",
    "    'SqlInjection': 1,\n",
    "    'CommandInjection': 1,\n",
    "    'DictionaryBruteForce': 1\n",
    "}"
   ]
  },
  {
   "cell_type": "code",
   "execution_count": 6,
   "metadata": {},
   "outputs": [
    {
     "name": "stderr",
     "output_type": "stream",
     "text": [
      "  0%|          | 0/1 [00:00<?, ?it/s]"
     ]
    },
    {
     "name": "stderr",
     "output_type": "stream",
     "text": [
      "100%|██████████| 1/1 [00:01<00:00,  1.76s/it]\n"
     ]
    }
   ],
   "source": [
    "X_ = []\n",
    "y_ = []\n",
    "\n",
    "for data in tqdm(dataset):\n",
    "    d = pd.read_csv(DATASET_DIRECTORY + data)\n",
    "    d[X_columns] = scaler.transform(d[X_columns])\n",
    "    new_y = [dict_2classes[k] for k in d[y_column]]\n",
    "    d[y_column] = new_y\n",
    "    X_.append(d[X_columns])\n",
    "    y_.append(d[y_column])\n",
    "    del d\n",
    "\n",
    "X = pd.concat(X_)\n",
    "y = pd.concat(y_)"
   ]
  },
  {
   "cell_type": "code",
   "execution_count": 7,
   "metadata": {},
   "outputs": [
    {
     "name": "stdout",
     "output_type": "stream",
     "text": [
      "Train set shape: (143212, 46)\n",
      "Validation set shape: (71606, 46)\n",
      "Test set shape: (23869, 46)\n"
     ]
    }
   ],
   "source": [
    "# Split the data into training (60%), validation (30%), and test (10%) sets\n",
    "X_train, X_temp, y_train, y_temp = train_test_split(X, y, test_size=0.4, stratify=y, random_state=42)\n",
    "X_valid, X_test, y_valid, y_test = train_test_split(X_temp, y_temp, test_size=0.25, stratify=y_temp, random_state=42)\n",
    "\n",
    "# Display the shapes of the resulting sets\n",
    "print(\"Train set shape:\", X_train.shape)\n",
    "print(\"Validation set shape:\", X_valid.shape)\n",
    "print(\"Test set shape:\", X_test.shape)"
   ]
  },
  {
   "cell_type": "code",
   "execution_count": 8,
   "metadata": {},
   "outputs": [
    {
     "name": "stdout",
     "output_type": "stream",
     "text": [
      "Models Training\n",
      "Models Trained\n"
     ]
    }
   ],
   "source": [
    "model1 = XGBClassifier(n_estimators=25, n_jobs=8, max_depth=5, random_state=42)\n",
    "print(\"Models Training\")\n",
    "model1.fit(X_train, y_train)\n",
    "print(\"Models Trained\")"
   ]
  },
  {
   "cell_type": "code",
   "execution_count": 9,
   "metadata": {},
   "outputs": [],
   "source": [
    "import time\n",
    "from math import sqrt\n",
    "\n",
    "def mcc(tp, fp, tn, fn):\n",
    "    x = (tp + fp) * (tp + fn) * (tn + fp) * (tn + fn)\n",
    "    return ((tp * tn) - (fp * fn)) / sqrt(x)"
   ]
  },
  {
   "cell_type": "code",
   "execution_count": 10,
   "metadata": {},
   "outputs": [
    {
     "name": "stdout",
     "output_type": "stream",
     "text": [
      "\n",
      "Model Metrics\n",
      "accuracy_score: 0.996\n",
      "recall_score: 0.998\n",
      "precision_score: 0.997\n",
      "f1_score: 0.998\n",
      "\n",
      "Confusion Matrix\n",
      "True Positive Rate (Sensitivity): 0.997\n",
      "True Negative Rate (Specificity): 0.929\n",
      "False Positive Rate (Type I Error): 0.071\n",
      "False Negative Rate (Type II Error): 0.003 \n",
      "\n",
      "Matthews Corelation Coefficient: 0.909\n",
      "AUC: 0.9466454915209743\n"
     ]
    }
   ],
   "source": [
    "from sklearn.metrics import accuracy_score, recall_score, precision_score, f1_score, confusion_matrix, roc_auc_score, matthews_corrcoef\n",
    "\n",
    "y_pred = model1.predict(X_test)\n",
    "    \n",
    "print(\"\\nModel Metrics\")\n",
    "print('accuracy_score: {:.3f}'.format(accuracy_score(y_pred, y_test)))\n",
    "print('recall_score: {:.3f}'.format(recall_score(y_pred, y_test)))\n",
    "print('precision_score: {:.3f}'.format(precision_score(y_pred, y_test)))\n",
    "print('f1_score: {:.3f}'.format(f1_score(y_pred, y_test)))\n",
    "\n",
    "# Calculate the confusion matrix\n",
    "confusion_matrix_result = confusion_matrix(y_test, y_pred)\n",
    "\n",
    "# Extract values from the confusion matrix\n",
    "TP = confusion_matrix_result[1, 1]  \n",
    "FP = confusion_matrix_result[0, 1]  \n",
    "FN = confusion_matrix_result[1, 0]  \n",
    "TN = confusion_matrix_result[0, 0] \n",
    "\n",
    "# Print the rates\n",
    "print(\"\\nConfusion Matrix\")\n",
    "print(\"True Positive Rate (Sensitivity): {:.3f}\".format(TP / (TP + FN))) \n",
    "print(\"True Negative Rate (Specificity): {:.3f}\".format(TN / (FP + TN))) \n",
    "print(\"False Positive Rate (Type I Error): {:.3f}\".format(FP / (FP + TN))) \n",
    "print(\"False Negative Rate (Type II Error): {:.3f}\".format(FN / (TP + FN)), \"\\n\") \n",
    "print(\"Matthews Corelation Coefficient: {:.3f}\".format(mcc(TP, FP, TN, FN)))\n",
    "print(\"AUC:\", roc_auc_score(y_pred, y_test))"
   ]
  },
  {
   "cell_type": "code",
   "execution_count": null,
   "metadata": {},
   "outputs": [
    {
     "name": "stdout",
     "output_type": "stream",
     "text": [
      "Verifying IDS\n"
     ]
    },
    {
     "name": "stderr",
     "output_type": "stream",
     "text": [
      "100%|██████████| 23869/23869 [00:20<00:00, 1187.74it/s]"
     ]
    },
    {
     "name": "stdout",
     "output_type": "stream",
     "text": [
      "IDS Robustness: 0.967\n"
     ]
    },
    {
     "name": "stderr",
     "output_type": "stream",
     "text": [
      "\n"
     ]
    }
   ],
   "source": [
    "print(\"Verifying IDS\")\n",
    "\n",
    "X_test_nr = []\n",
    "y_test_nr = []\n",
    "\n",
    "def label_checker(expected, mapping):\n",
    "    return vote.mapping_check_argmax(mapping, expected)\n",
    "\n",
    "e = vote.Ensemble.from_xgboost(model1)\n",
    "delta = 0.001 # 0.1% perturbations, very stealthy\n",
    "passe = 0\n",
    "\n",
    "for i in tqdm(range(len(X_test))):\n",
    "    xvec = X_test.iloc[i].values\n",
    "    label = y_test.iloc[i]\n",
    "    if model1.predict([np.asarray(xvec)]) != label: # Don't bother with samples that were misclassified\n",
    "        continue\n",
    "    domain = [(max(0.0, x-delta), min(1.0, x+delta)) for x in xvec]\n",
    "    checker = functools.partial(label_checker, label)\n",
    "    passed = e.absref(checker, domain)\n",
    "    if not passed:\n",
    "        X_test_nr.append(xvec)\n",
    "        y_test_nr.append(label)\n",
    "    else:\n",
    "        passe += 1 \n",
    "        \n",
    "print('IDS Robustness: {:.3f}'.format(passe/len(X_test)))"
   ]
  },
  {
   "cell_type": "code",
   "execution_count": null,
   "metadata": {},
   "outputs": [
    {
     "name": "stdout",
     "output_type": "stream",
     "text": [
      "Adversarial Examples:  Counter({0: 11520, 1: 11227})\n"
     ]
    }
   ],
   "source": [
    "adversarial_examples = []\n",
    "adversarial_labels = []\n",
    "true_labels = []\n",
    "delta = 0.001 # 0.01% perturbations, very stealthy\n",
    "multiplier = 32\n",
    "\n",
    "e = vote.Ensemble.from_xgboost(model1)\n",
    "\n",
    "for xvec, label in zip(X_test_nr, y_test_nr):  \n",
    "    \n",
    "    def check_robustness(m):\n",
    "        o = vote.mapping_check_argmax(m, label)\n",
    "        if o == vote.FAIL: \n",
    "            if label==0:\n",
    "                for i in range(multiplier): \n",
    "                    np.random.seed(42+i)\n",
    "                    center = [np.random.uniform(low=m.inputs[dim].lower, high=m.inputs[dim].upper) for dim in range(m.nb_inputs)]\n",
    "                    try:\n",
    "                        assert(model1.predict([center]) != label)\n",
    "                        adversarial_examples.append(center)\n",
    "                        true_labels.append(label)\n",
    "                        adversarial_labels.append(abs(1-label))\n",
    "                    except AssertionError as e:\n",
    "                        pass\n",
    "            if label==1:\n",
    "                for i in range(3*multiplier): \n",
    "                    np.random.seed(42+i)\n",
    "                    center = [np.random.uniform(low=m.inputs[dim].lower, high=m.inputs[dim].upper) for dim in range(m.nb_inputs)]\n",
    "                    try:\n",
    "                        assert(model1.predict([center]) != label)\n",
    "                        adversarial_examples.append(center)\n",
    "                        true_labels.append(label)\n",
    "                        adversarial_labels.append(abs(1-label))\n",
    "                    except AssertionError as e:\n",
    "                        pass\n",
    "        return o\n",
    "        \n",
    "    \n",
    "    input_region = [(max(x - delta, 0.0), min(1.0, x + delta)) for x in xvec]     \n",
    "    e.absref(check_robustness, input_region)\n",
    "    \n",
    "print(\"Adversarial Examples: \", Counter(true_labels))"
   ]
  },
  {
   "cell_type": "code",
   "execution_count": null,
   "metadata": {},
   "outputs": [
    {
     "name": "stdout",
     "output_type": "stream",
     "text": [
      "\n",
      "Model Metrics\n",
      "accuracy_score: 0.000\n",
      "recall_score: 0.000\n",
      "precision_score: 0.000\n",
      "f1_score: 0.000\n",
      "\n",
      "Confusion Matrix\n",
      "True Positive Rate (Sensitivity): 0.000\n",
      "True Negative Rate (Specificity): 0.000\n",
      "False Positive Rate (Type I Error): 1.000\n",
      "False Negative Rate (Type II Error): 1.000 \n",
      "\n",
      "Matthews Corelation Coefficient: -1.000\n"
     ]
    }
   ],
   "source": [
    "from sklearn.metrics import accuracy_score, recall_score, precision_score, f1_score, confusion_matrix\n",
    "\n",
    "y_pred = model1.predict(adversarial_examples)\n",
    "    \n",
    "print(\"\\nModel Metrics\")\n",
    "print('accuracy_score: {:.3f}'.format(accuracy_score(y_pred, true_labels)))\n",
    "print('recall_score: {:.3f}'.format(recall_score(y_pred, true_labels)))\n",
    "print('precision_score: {:.3f}'.format(precision_score(y_pred, true_labels)))\n",
    "print('f1_score: {:.3f}'.format(f1_score(y_pred, true_labels)))\n",
    "\n",
    "# Calculate the confusion matrix\n",
    "confusion_matrix_result = confusion_matrix(true_labels, y_pred)\n",
    "\n",
    "# Extract values from the confusion matrix\n",
    "TP = confusion_matrix_result[1, 1]  \n",
    "FP = confusion_matrix_result[0, 1]  \n",
    "FN = confusion_matrix_result[1, 0]  \n",
    "TN = confusion_matrix_result[0, 0] \n",
    "\n",
    "# Print the rates\n",
    "print(\"\\nConfusion Matrix\")\n",
    "print(\"True Positive Rate (Sensitivity): {:.3f}\".format(TP / (TP + FN))) \n",
    "print(\"True Negative Rate (Specificity): {:.3f}\".format(TN / (FP + TN))) \n",
    "print(\"False Positive Rate (Type I Error): {:.3f}\".format(FP / (FP + TN))) \n",
    "print(\"False Negative Rate (Type II Error): {:.3f}\".format(FN / (TP + FN)), \"\\n\") \n",
    "print(\"Matthews Corelation Coefficient: {:.3f}\".format(mcc(TP, FP, TN, FN)))"
   ]
  },
  {
   "cell_type": "code",
   "execution_count": null,
   "metadata": {},
   "outputs": [],
   "source": [
    "import pickle\n",
    "\n",
    "with open('combined_intervals_0.pkl', 'rb') as f3:\n",
    "    combined_intervals_0 = pickle.load(f3)\n",
    "    \n",
    "with open('combined_intervals_1.pkl', 'rb') as f4:\n",
    "    combined_intervals_1 = pickle.load(f4)    "
   ]
  },
  {
   "cell_type": "code",
   "execution_count": null,
   "metadata": {},
   "outputs": [],
   "source": [
    "from sklearn.inspection import permutation_importance\n",
    "\n",
    "perm_set = np.concatenate((X_train, X_valid))\n",
    "perm_lab = np.concatenate((y_train, y_valid))\n",
    "\n",
    "perm_importance = permutation_importance(model1, perm_set, perm_lab, random_state=12345, n_repeats=5, n_jobs=-1)\n",
    "wv = perm_importance['importances_mean']"
   ]
  },
  {
   "cell_type": "code",
   "execution_count": null,
   "metadata": {},
   "outputs": [],
   "source": [
    "def distance(samples):\n",
    "    distances = []\n",
    "    preds = model1.predict(np.asarray(samples))\n",
    "    for sample, pred in zip(np.asarray(samples), preds):\n",
    "        if pred == 1:\n",
    "            distances.append(np.sum(wv * [sample[i] in combined_intervals_0[i] for i in range(e.nb_inputs)]))\n",
    "        else:\n",
    "            distances.append(np.sum(wv * [sample[i] in combined_intervals_1[i] for i in range(e.nb_inputs)]))\n",
    "    return distances"
   ]
  },
  {
   "cell_type": "code",
   "execution_count": null,
   "metadata": {},
   "outputs": [],
   "source": [
    "distances_X_test  = distance(X_test)\n",
    "distances_adversarial_examples = distance(adversarial_examples)"
   ]
  },
  {
   "cell_type": "code",
   "execution_count": null,
   "metadata": {},
   "outputs": [
    {
     "name": "stdout",
     "output_type": "stream",
     "text": [
      "Evaluation Samples: 46616\n"
     ]
    }
   ],
   "source": [
    "test_set = np.concatenate((X_test, adversarial_examples))\n",
    "test_lab_sym = np.concatenate((np.zeros(len(y_test), dtype=bool), np.ones(len(true_labels), dtype=bool)))\n",
    "\n",
    "test_lab = np.concatenate((y_test, true_labels))\n",
    "\n",
    "print(\"Evaluation Samples:\", len(test_set))"
   ]
  },
  {
   "cell_type": "code",
   "execution_count": null,
   "metadata": {},
   "outputs": [
    {
     "data": {
      "image/png": "[encoded data removed]",
      "text/plain": [
       "<Figure size 640x480 with 1 Axes>"
      ]
     },
     "metadata": {},
     "output_type": "display_data"
    },
    {
     "name": "stdout",
     "output_type": "stream",
     "text": [
      "0.024\n"
     ]
    }
   ],
   "source": [
    "import matplotlib.pyplot as plt\n",
    "from sklearn.metrics import roc_curve, auc, RocCurveDisplay, confusion_matrix\n",
    "\n",
    "S = np.concatenate((distances_X_test, distances_adversarial_examples))\n",
    "\n",
    "fpr, tpr, thresholds = roc_curve(test_lab_sym, S, drop_intermediate = False)\n",
    "roc_auc = auc(fpr, tpr)\n",
    "display = RocCurveDisplay(fpr=fpr, tpr=tpr, roc_auc=roc_auc, estimator_name='Iceman')\n",
    "display.plot()\n",
    "plt.show()\n",
    "\n",
    "optimal_idx = np.argmax(tpr - fpr)\n",
    "threshold = round(thresholds[optimal_idx], 3)\n",
    "print(threshold)"
   ]
  },
  {
   "cell_type": "markdown",
   "metadata": {},
   "source": [
    "## Then we evaluate using Iceman! "
   ]
  },
  {
   "cell_type": "code",
   "execution_count": null,
   "metadata": {},
   "outputs": [],
   "source": [
    "def IDS(x, threshold):\n",
    "    S = distance(x)\n",
    "    predictions, preds = [], model1.predict(np.asarray(x))\n",
    "    for score, pred in zip(S, preds):\n",
    "        if score <= threshold:\n",
    "            predictions.append(pred)\n",
    "        else:\n",
    "            predictions.append(abs(1-pred))\n",
    "    return predictions"
   ]
  },
  {
   "cell_type": "code",
   "execution_count": null,
   "metadata": {},
   "outputs": [],
   "source": [
    "y_pred = IDS(test_set, threshold)"
   ]
  },
  {
   "cell_type": "code",
   "execution_count": null,
   "metadata": {},
   "outputs": [
    {
     "name": "stdout",
     "output_type": "stream",
     "text": [
      "Acc:  0.982 \n",
      "F1-Score:  0.988 \n",
      "MCC:  0.953\n",
      "Rec:  0.985 \n",
      "Prec:  0.991 \n",
      "AUC:  0.982\n",
      "True Positive Rate (TPR): 0.991\n",
      "True Negative Rate (TNR): 0.957\n",
      "False Positive Rate (FPR): 0.043\n",
      "False Negative Rate (FNR): 0.009\n"
     ]
    }
   ],
   "source": [
    "fpr, tpr, thresholds = roc_curve(test_lab_sym, S)\n",
    "roc_auc = auc(fpr, tpr)\n",
    "print(\"Acc: \", round(accuracy_score(y_pred, test_lab), 3), \"\\nF1-Score: \", round(f1_score(y_pred, test_lab), 3), \"\\nMCC: \", round(matthews_corrcoef(y_pred, test_lab),3))\n",
    "print(\"Rec: \", round(recall_score(y_pred, test_lab), 3), \"\\nPrec: \", round(precision_score(y_pred, test_lab), 3), \"\\nAUC: \", round(roc_auc, 3))\n",
    "# Calculate confusion matrix\n",
    "tn, fp, fn, tp = confusion_matrix(test_lab, y_pred).ravel()\n",
    "# Calculate rates\n",
    "tpr = tp / (tp + fn)  # True Positive Rate\n",
    "fpr = fp / (fp + tn)  # False Positive Rate\n",
    "tnr = tn / (tn + fp)  # True Negative Rate\n",
    "fnr = fn / (fn + tp)  # False Negative Rate\n",
    "# Print rates\n",
    "print(f\"True Positive Rate (TPR): {tpr:.3f}\")\n",
    "print(f\"True Negative Rate (TNR): {tnr:.3f}\")\n",
    "print(f\"False Positive Rate (FPR): {fpr:.3f}\")\n",
    "print(f\"False Negative Rate (FNR): {fnr:.3f}\")"
   ]
  },
  {
   "cell_type": "markdown",
   "metadata": {},
   "source": [
    "## Alert Management Stuff!"
   ]
  },
  {
   "cell_type": "code",
   "execution_count": null,
   "metadata": {},
   "outputs": [],
   "source": [
    "true_positives = X_test[y_test == 1] # True Attack. Investigate!\n",
    "true_negatives = X_test[y_test == 0] # True Benign. Do Nothing!\n",
    "false_positives = [example for example, label in zip(adversarial_examples, true_labels) if label == 0] # Evasion (true_label = benign, pred = attack). Caution!\n",
    "false_negatives = [example for example, label in zip(adversarial_examples, true_labels) if label == 1] # Evasion (true_label = attack, pred = benign). Investigate!\n",
    "\n",
    "exp_newset = np.concatenate((true_positives, true_negatives, false_positives, false_negatives))\n",
    "exp_newlab = np.concatenate((np.full(len(true_positives), 1), np.full(len(true_negatives), 0), np.full(len(false_positives), 3), np.full(len(false_negatives), 2)))"
   ]
  },
  {
   "cell_type": "code",
   "execution_count": null,
   "metadata": {},
   "outputs": [],
   "source": [
    "def IDS_alert(x, threshold, filter = False):\n",
    "    S = distance(x)\n",
    "    predictions, preds = [], model1.predict(np.asarray(x))\n",
    "    for score, pred in zip(S, preds):\n",
    "        if score <= threshold:\n",
    "            if pred == 1:\n",
    "                predictions.append('tp' if filter else 1) # TP\n",
    "            else:\n",
    "                predictions.append('tn' if filter else 0) # TN\n",
    "        else:\n",
    "            if pred == 1:\n",
    "                predictions.append('fp' if filter else 3) # FP\n",
    "            else:\n",
    "                predictions.append('fn' if filter else 2) # FN\n",
    "    return predictions"
   ]
  },
  {
   "cell_type": "code",
   "execution_count": null,
   "metadata": {},
   "outputs": [
    {
     "name": "stdout",
     "output_type": "stream",
     "text": [
      "              precision    recall  f1-score   support\n",
      "\n",
      "           0       0.00      0.00      0.00       560\n",
      "           1       1.00      0.98      0.99     23309\n",
      "           2       0.95      1.00      0.97     11227\n",
      "           3       0.97      1.00      0.98     11520\n",
      "\n",
      "    accuracy                           0.98     46616\n",
      "   macro avg       0.73      0.75      0.74     46616\n",
      "weighted avg       0.97      0.98      0.97     46616\n",
      "\n"
     ]
    }
   ],
   "source": [
    "from sklearn.metrics import classification_report\n",
    "\n",
    "y_pred = IDS_alert(exp_newset, threshold)\n",
    "\n",
    "# Print classification report\n",
    "print(classification_report(exp_newlab, y_pred))"
   ]
  },
  {
   "cell_type": "code",
   "execution_count": null,
   "metadata": {},
   "outputs": [
    {
     "name": "stdout",
     "output_type": "stream",
     "text": [
      "              precision    recall  f1-score   support\n",
      "\n",
      "          fn       0.95      1.00      0.97     11227\n",
      "          fp       0.97      1.00      0.98     11520\n",
      "          tn       0.00      0.00      0.00       560\n",
      "          tp       1.00      0.98      0.99     23309\n",
      "\n",
      "    accuracy                           0.98     46616\n",
      "   macro avg       0.73      0.75      0.74     46616\n",
      "weighted avg       0.97      0.98      0.97     46616\n",
      "\n"
     ]
    }
   ],
   "source": [
    "exp_newlab_filter = np.concatenate((np.full(len(true_positives), 'tp'), np.full(len(true_negatives), 'tn'), np.full(len(false_positives), 'fp'), np.full(len(false_negatives), 'fn')))\n",
    "\n",
    "y_pred = IDS_alert(exp_newset, threshold, filter=True)\n",
    "\n",
    "# Print classification report\n",
    "print(classification_report(exp_newlab_filter, y_pred))"
   ]
  },
  {
   "cell_type": "markdown",
   "metadata": {},
   "source": [
    "## Now we evaluate performance using VERITAS!"
   ]
  },
  {
   "cell_type": "code",
   "execution_count": null,
   "metadata": {},
   "outputs": [],
   "source": [
    "import veritas\n",
    "\n",
    "def veritas_attack(model, samples, labels, epsilon, timeout=1, search_steps=100, verbose=False):\n",
    "    adversarial_examples, true_labels = [], []\n",
    "    assert len(np.unique(np.asarray(y_test))), \"Input must be a binary-classification problem with labels 0/1\"\n",
    "    assert np.min(X_test_nr)>=0 and np.max(X_test_nr)<=1.0, \"Input Dataset must be Min-Max Normalised\"\n",
    "    at = veritas.get_addtree(model)\n",
    "    print(\"\\nFinding Adversarial Examples using Veritas:\")\n",
    "    for i in tqdm(range(len(labels))):\n",
    "        base_example = samples[i]\n",
    "        true_label = labels[i]\n",
    "        if model.predict([base_example]) != true_label:\n",
    "            if verbose:\n",
    "                print(i, \"Skipping Misclassified Sample\",\"\\n\")\n",
    "            continue\n",
    "        heur = veritas.HeuristicType.MAX_OUTPUT if true_label == 0 else veritas.HeuristicType.MIN_OUTPUT\n",
    "        config = veritas.Config(heur)\n",
    "        config.ignore_state_when_worse_than = 0.0\n",
    "        prune_box = [veritas.Interval(max(0.0, x-epsilon), min(1.0, x+epsilon)) for x in base_example]\n",
    "        search = config.get_search(at, prune_box)\n",
    "        stop_reason = search.step_for(timeout, search_steps) \n",
    "        while search.num_solutions() == 0:\n",
    "            if search.steps(search_steps) == veritas.StopReason.NO_MORE_OPEN or stop_reason:\n",
    "                if verbose:\n",
    "                    print(i, \"Timeout & Skipped\",\"\\n\") \n",
    "                break\n",
    "        if search.num_solutions() > 0:\n",
    "            sol = search.get_solution(0)\n",
    "            adv_example = veritas.get_closest_example(sol, base_example, eps=1e-3)\n",
    "            predicted_label = int(model.predict([adv_example]))\n",
    "            l_inf = np.max(np.abs(base_example - adv_example))\n",
    "            if int(predicted_label) != int(true_label) and l_inf < epsilon:\n",
    "                adversarial_examples.append(adv_example)\n",
    "                true_labels.append(true_label)\n",
    "                if verbose:\n",
    "                    print(i, \"True Label:\", str(true_label), \"--> Adversarial Label:\", str(predicted_label), \"L-inf:\", l_inf, \"\\n\")\n",
    "            else:\n",
    "                if verbose:\n",
    "                    print(i, \"Debugging Needed\",\"\\n\") \n",
    "        else:\n",
    "            if verbose:\n",
    "                pass\n",
    "                print(i, \"No Adversarial Example Found\",\"\\n\")\n",
    "    print(\"\\nFound:\", len(adversarial_examples), \"| Split:\", Counter(true_labels))\n",
    "    return adversarial_examples, true_labels"
   ]
  },
  {
   "cell_type": "code",
   "execution_count": null,
   "metadata": {},
   "outputs": [
    {
     "name": "stdout",
     "output_type": "stream",
     "text": [
      "\n",
      "| XGBOOST's base_score\n",
      "|   base_score diff std      3.8628626708685837e-07 OK\n",
      "|   base_score reported      0.87058634\n",
      "|   versus manually detected 1.9061529452431132\n",
      "|   abs err                  1.0355666052431132\n",
      "|   rel err                  1.1895047712822064\n",
      "|   (!) base_score NOT THE SAME with relative tolerance 0.00025\n",
      "\n",
      "\n",
      "Finding Adversarial Examples using Veritas:\n"
     ]
    },
    {
     "name": "stderr",
     "output_type": "stream",
     "text": [
      "100%|██████████| 690/690 [00:10<00:00, 64.77it/s] \n"
     ]
    },
    {
     "name": "stdout",
     "output_type": "stream",
     "text": [
      "\n",
      "Found: 0 | Split: Counter()\n"
     ]
    }
   ],
   "source": [
    "adversarial_examples, true_labels = veritas_attack(model1, np.asarray(X_test_nr), np.asarray(y_test_nr), delta, 2, 10000)"
   ]
  },
  {
   "cell_type": "markdown",
   "metadata": {},
   "source": [
    "Apparently, VERITAS could not find any adversarial examples! "
   ]
  },
  {
   "cell_type": "markdown",
   "metadata": {},
   "source": [
    "## Then we evaluate using GROOT!"
   ]
  },
  {
   "cell_type": "code",
   "execution_count": null,
   "metadata": {},
   "outputs": [
    {
     "name": "stderr",
     "output_type": "stream",
     "text": [
      "[Parallel(n_jobs=10)]: Using backend LokyBackend with 10 concurrent workers.\n",
      "[Parallel(n_jobs=10)]: Done  25 out of  25 | elapsed:   17.9s finished\n"
     ]
    },
    {
     "data": {
      "text/plain": [
       "GrootRandomForestClassifier(attack_model=[0.001, 0.001, 0.001, 0.001, 0.001,\n",
       "                                          0.001, 0.001, 0.001, 0.001, 0.001,\n",
       "                                          0.001, 0.001, 0.001, 0.001, 0.001,\n",
       "                                          0.001, 0.001, 0.001, 0.001, 0.001,\n",
       "                                          0.001, 0.001, 0.001, 0.001, 0.001,\n",
       "                                          0.001, 0.001, 0.001, 0.001, 0.001, ...],\n",
       "                            max_depth=5, n_estimators=25, n_jobs=10,\n",
       "                            random_state=42, verbose=True)"
      ]
     },
     "execution_count": 25,
     "metadata": {},
     "output_type": "execute_result"
    }
   ],
   "source": [
    "from groot.model import GrootRandomForestClassifier\n",
    "forest = GrootRandomForestClassifier(n_estimators=25, max_depth=5, attack_model = [delta] * X_train.shape[1], random_state=42, verbose=True, n_jobs=10)\n",
    "\n",
    "forest.fit(np.asarray(X_train), np.asarray(y_train))"
   ]
  },
  {
   "cell_type": "code",
   "execution_count": null,
   "metadata": {},
   "outputs": [],
   "source": [
    "y_pred = forest.predict(test_set)"
   ]
  },
  {
   "cell_type": "code",
   "execution_count": null,
   "metadata": {},
   "outputs": [
    {
     "name": "stdout",
     "output_type": "stream",
     "text": [
      "Acc:  0.846 \n",
      "F1-Score:  0.889 \n",
      "MCC:  0.659\n",
      "Rec:  0.955 \n",
      "Prec:  0.832 \n",
      "AUC:  0.802\n",
      "True Positive Rate (TPR): 0.832\n",
      "True Negative Rate (TNR): 0.888\n",
      "False Positive Rate (FPR): 0.112\n",
      "False Negative Rate (FNR): 0.168\n"
     ]
    }
   ],
   "source": [
    "from sklearn.metrics import roc_auc_score\n",
    "\n",
    "print(\"Acc: \", round(accuracy_score(y_pred, test_lab), 3), \"\\nF1-Score: \", round(f1_score(y_pred, test_lab), 3), \"\\nMCC: \", round(matthews_corrcoef(y_pred, test_lab),3))\n",
    "print(\"Rec: \", round(recall_score(y_pred, test_lab), 3), \"\\nPrec: \", round(precision_score(y_pred, test_lab), 3), \"\\nAUC: \", round(roc_auc_score(y_pred, test_lab), 3))\n",
    "# Calculate confusion matrix\n",
    "tn, fp, fn, tp = confusion_matrix(test_lab, y_pred).ravel()\n",
    "# Calculate rates\n",
    "tpr = tp / (tp + fn)  # True Positive Rate\n",
    "fpr = fp / (fp + tn)  # False Positive Rate\n",
    "tnr = tn / (tn + fp)  # True Negative Rate\n",
    "fnr = fn / (fn + tp)  # False Negative Rate\n",
    "# Print rates\n",
    "print(f\"True Positive Rate (TPR): {tpr:.3f}\")\n",
    "print(f\"True Negative Rate (TNR): {tnr:.3f}\")\n",
    "print(f\"False Positive Rate (FPR): {fpr:.3f}\")\n",
    "print(f\"False Negative Rate (FNR): {fnr:.3f}\")"
   ]
  },
  {
   "cell_type": "markdown",
   "metadata": {},
   "source": [
    "## Then we evaluate using OC-Score!"
   ]
  },
  {
   "cell_type": "code",
   "execution_count": null,
   "metadata": {},
   "outputs": [
    {
     "name": "stdout",
     "output_type": "stream",
     "text": [
      "Training Accuracy: 0.997\n"
     ]
    }
   ],
   "source": [
    "ytrain_pred = model1.predict(X_train) # For the Reference Set\n",
    "acc_train = accuracy_score(y_train, ytrain_pred)\n",
    "print(f\"Training Accuracy: {acc_train:.3f}\")"
   ]
  },
  {
   "cell_type": "code",
   "execution_count": null,
   "metadata": {},
   "outputs": [],
   "source": [
    "# Find a reference set, e.g. set of correctly classified training examples\n",
    "xref_mask = ytrain_pred == y_train\n",
    "xref = X_train[xref_mask]\n",
    "dtype = np.uint16\n",
    "idref_train = model1.apply(xref).astype(dtype)"
   ]
  },
  {
   "cell_type": "code",
   "execution_count": null,
   "metadata": {},
   "outputs": [],
   "source": [
    "exp_df = pd.DataFrame(test_set, columns=X_test.columns)\n",
    "idref_exp = model1.apply(exp_df).astype(dtype)"
   ]
  },
  {
   "cell_type": "code",
   "execution_count": null,
   "metadata": {},
   "outputs": [
    {
     "data": {
      "image/png": "[encoded data removed]",
      "text/plain": [
       "<Figure size 640x480 with 1 Axes>"
      ]
     },
     "metadata": {},
     "output_type": "display_data"
    },
    {
     "name": "stdout",
     "output_type": "stream",
     "text": [
      "1\n"
     ]
    }
   ],
   "source": [
    "import ocscore\n",
    "\n",
    "S = ocscore.ocscores(idref_train, idref_exp)\n",
    "\n",
    "fpr, tpr, thresholds = roc_curve(test_lab_sym, S, drop_intermediate = False)\n",
    "roc_auc = auc(fpr, tpr)\n",
    "display = RocCurveDisplay(fpr=fpr, tpr=tpr, roc_auc=roc_auc, estimator_name='OC-Score')\n",
    "display.plot()\n",
    "plt.show()\n",
    "\n",
    "optimal_idx = np.argmax(tpr - fpr)\n",
    "threshold = round(thresholds[optimal_idx], 3)\n",
    "print(threshold)\n"
   ]
  },
  {
   "cell_type": "code",
   "execution_count": null,
   "metadata": {},
   "outputs": [],
   "source": [
    "def OC_predict(x, refset, threshold):\n",
    "    x = pd.DataFrame(x, columns=X_test.columns)\n",
    "    testset = model1.apply(x).astype(dtype)\n",
    "    S = ocscore.ocscores(refset, testset)\n",
    "    predictions, preds = [], model1.predict(np.asarray(x))\n",
    "    for score, pred in zip(S, preds):\n",
    "        if score <= threshold:\n",
    "            predictions.append(pred)\n",
    "        else:\n",
    "            predictions.append(abs(1-pred))\n",
    "    return predictions"
   ]
  },
  {
   "cell_type": "code",
   "execution_count": null,
   "metadata": {},
   "outputs": [],
   "source": [
    "y_pred = OC_predict(test_set, idref_train, threshold)"
   ]
  },
  {
   "cell_type": "code",
   "execution_count": null,
   "metadata": {},
   "outputs": [
    {
     "name": "stdout",
     "output_type": "stream",
     "text": [
      "Acc:  0.971 \n",
      "F1-Score:  0.98 \n",
      "MCC:  0.926\n",
      "Rec:  0.99 \n",
      "Prec:  0.97 \n",
      "AUC:  0.99\n",
      "True Positive Rate (TPR): 0.970\n",
      "True Negative Rate (TNR): 0.973\n",
      "False Positive Rate (FPR): 0.027\n",
      "False Negative Rate (FNR): 0.030\n"
     ]
    }
   ],
   "source": [
    "fpr, tpr, thresholds = roc_curve(test_lab_sym, S)\n",
    "roc_auc = auc(fpr, tpr)\n",
    "print(\"Acc: \", round(accuracy_score(y_pred, test_lab), 3), \"\\nF1-Score: \", round(f1_score(y_pred, test_lab), 3), \"\\nMCC: \", round(matthews_corrcoef(y_pred, test_lab),3))\n",
    "print(\"Rec: \", round(recall_score(y_pred, test_lab), 3), \"\\nPrec: \", round(precision_score(y_pred, test_lab), 3), \"\\nAUC: \", round(roc_auc, 3))\n",
    "# Calculate confusion matrix\n",
    "tn, fp, fn, tp = confusion_matrix(test_lab, y_pred).ravel()\n",
    "# Calculate rates\n",
    "tpr = tp / (tp + fn)  # True Positive Rate\n",
    "fpr = fp / (fp + tn)  # False Positive Rate\n",
    "tnr = tn / (tn + fp)  # True Negative Rate\n",
    "fnr = fn / (fn + tp)  # False Negative Rate\n",
    "# Print rates\n",
    "print(f\"True Positive Rate (TPR): {tpr:.3f}\")\n",
    "print(f\"True Negative Rate (TNR): {tnr:.3f}\")\n",
    "print(f\"False Positive Rate (FPR): {fpr:.3f}\")\n",
    "print(f\"False Negative Rate (FNR): {fnr:.3f}\")"
   ]
  },
  {
   "cell_type": "markdown",
   "metadata": {},
   "source": [
    "## Timing Experiments!"
   ]
  },
  {
   "cell_type": "code",
   "execution_count": null,
   "metadata": {},
   "outputs": [],
   "source": [
    "runs = 100"
   ]
  },
  {
   "cell_type": "code",
   "execution_count": null,
   "metadata": {},
   "outputs": [
    {
     "name": "stderr",
     "output_type": "stream",
     "text": [
      "  0%|          | 0/100 [00:00<?, ?it/s]"
     ]
    },
    {
     "name": "stderr",
     "output_type": "stream",
     "text": [
      "100%|██████████| 100/100 [11:20<00:00,  6.81s/it]"
     ]
    },
    {
     "name": "stdout",
     "output_type": "stream",
     "text": [
      "Complete!\n"
     ]
    },
    {
     "name": "stderr",
     "output_type": "stream",
     "text": [
      "\n"
     ]
    }
   ],
   "source": [
    "times_2_iceman = []\n",
    "\n",
    "for _ in tqdm(range(runs)):\n",
    "    time_output = %timeit -o -n 1 -r 1 -q y_pred = IDS(test_set, threshold=0.4997)\n",
    "    times_2_iceman.append(time_output.average)\n",
    "\n",
    "with open('/home/ubuntu/IDS/times/times_2_iceman.pkl', 'wb') as f:\n",
    "    pickle.dump(times_2_iceman, f)\n",
    "print(\"Complete!\")"
   ]
  },
  {
   "cell_type": "code",
   "execution_count": null,
   "metadata": {},
   "outputs": [
    {
     "name": "stderr",
     "output_type": "stream",
     "text": [
      "100%|██████████| 100/100 [00:10<00:00,  9.42it/s]"
     ]
    },
    {
     "name": "stdout",
     "output_type": "stream",
     "text": [
      "Complete!\n"
     ]
    },
    {
     "name": "stderr",
     "output_type": "stream",
     "text": [
      "\n"
     ]
    }
   ],
   "source": [
    "times_2_groot = []\n",
    "\n",
    "for _ in tqdm(range(runs)):\n",
    "    time_output = %timeit -o -n 1 -r 1 -q y_pred = forest.predict(test_set)\n",
    "    times_2_groot.append(time_output.average)\n",
    "\n",
    "with open('/home/ubuntu/IDS/times/times_2_groot.pkl', 'wb') as f:\n",
    "    pickle.dump(times_2_groot, f)\n",
    "print(\"Complete!\")"
   ]
  },
  {
   "cell_type": "code",
   "execution_count": null,
   "metadata": {},
   "outputs": [
    {
     "name": "stdout",
     "output_type": "stream",
     "text": [
      "Complete!\n"
     ]
    }
   ],
   "source": [
    "times_2_ocscore = []\n",
    "\n",
    "for _ in tqdm(range(runs)):\n",
    "    time_output = %timeit -o -n 1 -r 1 -q y_pred = OC_predict(test_set, idref_train, threshold)\n",
    "    times_2_ocscore.append(time_output.average)\n",
    "\n",
    "with open('/home/ubuntu/IDS/times/times_2_ocscore.pkl', 'wb') as f:\n",
    "    pickle.dump(times_2_ocscore, f)\n",
    "print(\"Complete!\")"
   ]
  }
 ],
 "metadata": {
  "kernelspec": {
   "display_name": "Python 3",
   "language": "python",
   "name": "python3"
  },
  "language_info": {
   "codemirror_mode": {
    "name": "ipython",
    "version": 3
   },
   "file_extension": ".py",
   "mimetype": "text/x-python",
   "name": "python",
   "nbconvert_exporter": "python",
   "pygments_lexer": "ipython3",
   "version": "3.8.10"
  }
 },
 "nbformat": 4,
 "nbformat_minor": 2
}
