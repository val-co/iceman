{
 "cells": [
  {
   "cell_type": "markdown",
   "metadata": {},
   "source": [
    "## The HCRL-Survival-Analysis Experiment!"
   ]
  },
  {
   "cell_type": "code",
   "execution_count": 1,
   "metadata": {},
   "outputs": [],
   "source": [
    "import os\n",
    "import vote\n",
    "import pickle\n",
    "import warnings\n",
    "import functools\n",
    "import numpy as np\n",
    "import portion as P\n",
    "import pandas as pd\n",
    "from tqdm import tqdm\n",
    "from collections import Counter\n",
    "warnings.filterwarnings(\"ignore\")\n",
    "np.set_printoptions(suppress=True)\n",
    "from xgboost import XGBClassifier\n",
    "from catboost import CatBoostClassifier\n",
    "from scipy.spatial.distance import cosine\n",
    "from sklearn.metrics import confusion_matrix\n",
    "from sklearn.preprocessing import MinMaxScaler\n",
    "from sklearn.ensemble import RandomForestClassifier\n",
    "from sklearn.model_selection import train_test_split\n",
    "from imblearn.over_sampling import RandomOverSampler\n",
    "from imblearn.under_sampling import RandomUnderSampler\n",
    "from sklearn.metrics import accuracy_score, recall_score, precision_score, f1_score, matthews_corrcoef"
   ]
  },
  {
   "cell_type": "code",
   "execution_count": 2,
   "metadata": {},
   "outputs": [],
   "source": [
    "loaded_combined_df = pd.read_csv('Sonata-Combined.csv', index_col=0) "
   ]
  },
  {
   "cell_type": "code",
   "execution_count": 3,
   "metadata": {},
   "outputs": [
    {
     "name": "stdout",
     "output_type": "stream",
     "text": [
      "Train set shape: (340449, 11)\n",
      "Validation set shape: (170224, 11)\n",
      "Test set shape: (56742, 11)\n"
     ]
    }
   ],
   "source": [
    "from sklearn.model_selection import train_test_split\n",
    "\n",
    "# Assuming 'label' is the name of the column containing the labels\n",
    "X = loaded_combined_df.drop('label', axis=1)  # Features\n",
    "y = loaded_combined_df['label']  # Labels\n",
    "\n",
    "# Split the data into training (60%), validation (30%), and test (10%) sets\n",
    "X_train, X_temp, y_train, y_temp = train_test_split(X, y, test_size=0.4, stratify=y, random_state=42)\n",
    "X_valid, X_test, y_valid, y_test = train_test_split(X_temp, y_temp, test_size=0.25, stratify=y_temp, random_state=42)\n",
    "\n",
    "# Display the shapes of the resulting sets\n",
    "print(\"Train set shape:\", X_train.shape)\n",
    "print(\"Validation set shape:\", X_valid.shape)\n",
    "print(\"Test set shape:\", X_test.shape)"
   ]
  },
  {
   "cell_type": "code",
   "execution_count": 4,
   "metadata": {},
   "outputs": [
    {
     "name": "stdout",
     "output_type": "stream",
     "text": [
      "Resampled Training Dataset shape Counter({0: 59362, 1: 59362})\n",
      "Resampled Validation Dataset shape Counter({0: 29680, 1: 29680})\n",
      "Resampled Testing Dataset shape Counter({0: 9894, 1: 9894})\n"
     ]
    }
   ],
   "source": [
    "from imblearn.under_sampling import RandomUnderSampler\n",
    "\n",
    "rus1 = RandomUnderSampler(random_state=42)\n",
    "X_train_res, y_train_res = rus1.fit_resample(X_train, y_train)\n",
    "print('Resampled Training Dataset shape %s' % Counter(y_train_res))\n",
    "\n",
    "rus2 = RandomUnderSampler(random_state=42)\n",
    "X_valid_res, y_valid_res = rus2.fit_resample(X_valid, y_valid)\n",
    "print('Resampled Validation Dataset shape %s' % Counter(y_valid_res))\n",
    "\n",
    "rus3 = RandomUnderSampler(random_state=42)\n",
    "X_test_res, y_test_res = rus3.fit_resample(X_test, y_test)\n",
    "print('Resampled Testing Dataset shape %s' % Counter(y_test_res))"
   ]
  },
  {
   "cell_type": "code",
   "execution_count": 5,
   "metadata": {},
   "outputs": [
    {
     "name": "stdout",
     "output_type": "stream",
     "text": [
      "Models Training\n",
      "Models Trained\n"
     ]
    }
   ],
   "source": [
    "from xgboost import XGBClassifier\n",
    "from catboost import CatBoostClassifier\n",
    "from sklearn.ensemble import RandomForestClassifier\n",
    "from sklearn.preprocessing import MinMaxScaler\n",
    "\n",
    "# Create the scaler\n",
    "scaler = MinMaxScaler()\n",
    "\n",
    "# Fit the scaler on the training data\n",
    "scaler.fit(X_train_res)\n",
    "\n",
    "# Transform the training data\n",
    "X_train_res_scaled = scaler.transform(X_train_res)\n",
    "\n",
    "# Transform the validation data\n",
    "X_valid_res_scaled = scaler.transform(X_valid_res)\n",
    "\n",
    "# Transform the test data\n",
    "X_test_res_scaled = scaler.transform(X_test_res)\n",
    "\n",
    "model1 = RandomForestClassifier(n_estimators=50, max_depth=10, random_state=42)\n",
    "print(\"Models Training\")\n",
    "model1.fit(X_train_res_scaled, y_train_res)\n",
    "print(\"Models Trained\")"
   ]
  },
  {
   "cell_type": "code",
   "execution_count": 6,
   "metadata": {},
   "outputs": [],
   "source": [
    "import time\n",
    "from math import sqrt\n",
    "import plotly.express as px\n",
    "\n",
    "def mcc(tp, fp, tn, fn):\n",
    "    x = (tp + fp) * (tp + fn) * (tn + fp) * (tn + fn)\n",
    "    return ((tp * tn) - (fp * fn)) / sqrt(x)"
   ]
  },
  {
   "cell_type": "code",
   "execution_count": 8,
   "metadata": {},
   "outputs": [
    {
     "name": "stdout",
     "output_type": "stream",
     "text": [
      "\n",
      "Model Metrics\n",
      "accuracy_score: 1.000\n",
      "recall_score: 1.000\n",
      "precision_score: 1.000\n",
      "f1_score: 1.000\n",
      "\n",
      "Confusion Matrix\n",
      "True Positive Rate (Sensitivity): 1.000\n",
      "True Negative Rate (Specificity): 1.000\n",
      "False Positive Rate (Type I Error): 0.000\n",
      "False Negative Rate (Type II Error): 0.000 \n",
      "\n",
      "Matthews Corelation Coefficient: 1.000\n",
      "AUC: 1.0\n"
     ]
    }
   ],
   "source": [
    "from sklearn.metrics import accuracy_score, recall_score, precision_score, f1_score, confusion_matrix, matthews_corrcoef, roc_auc_score\n",
    "\n",
    "y_pred = []\n",
    "    \n",
    "y_pred = model1.predict(X_test_res_scaled)\n",
    "    \n",
    "print(\"\\nModel Metrics\")\n",
    "print('accuracy_score: {:.3f}'.format(accuracy_score(y_pred, y_test_res)))\n",
    "print('recall_score: {:.3f}'.format(recall_score(y_pred, y_test_res)))\n",
    "print('precision_score: {:.3f}'.format(precision_score(y_pred, y_test_res)))\n",
    "print('f1_score: {:.3f}'.format(f1_score(y_pred, y_test_res)))\n",
    "\n",
    "# Calculate the confusion matrix\n",
    "confusion_matrix_result = confusion_matrix(y_test_res, y_pred)\n",
    "\n",
    "# Extract values from the confusion matrix\n",
    "TP = confusion_matrix_result[1, 1]  \n",
    "FP = confusion_matrix_result[0, 1]  \n",
    "FN = confusion_matrix_result[1, 0]  \n",
    "TN = confusion_matrix_result[0, 0] \n",
    "\n",
    "# Print the rates\n",
    "print(\"\\nConfusion Matrix\")\n",
    "print(\"True Positive Rate (Sensitivity): {:.3f}\".format(TP / (TP + FN))) \n",
    "print(\"True Negative Rate (Specificity): {:.3f}\".format(TN / (FP + TN))) \n",
    "print(\"False Positive Rate (Type I Error): {:.3f}\".format(FP / (FP + TN))) \n",
    "print(\"False Negative Rate (Type II Error): {:.3f}\".format(FN / (TP + FN)), \"\\n\") \n",
    "print(\"Matthews Corelation Coefficient: {:.3f}\".format(mcc(TP, FP, TN, FN)))\n",
    "print(\"AUC:\", roc_auc_score(y_pred, y_test_res))"
   ]
  },
  {
   "cell_type": "code",
   "execution_count": null,
   "metadata": {},
   "outputs": [
    {
     "name": "stdout",
     "output_type": "stream",
     "text": [
      "Analyzing IDS for Vulnerabilities\n"
     ]
    },
    {
     "name": "stderr",
     "output_type": "stream",
     "text": [
      "  0%|          | 0/19788 [00:00<?, ?it/s]"
     ]
    },
    {
     "name": "stderr",
     "output_type": "stream",
     "text": [
      "100%|██████████| 19788/19788 [01:17<00:00, 255.35it/s]"
     ]
    },
    {
     "name": "stdout",
     "output_type": "stream",
     "text": [
      "IDS Robustness: 0.998\n"
     ]
    },
    {
     "name": "stderr",
     "output_type": "stream",
     "text": [
      "\n"
     ]
    }
   ],
   "source": [
    "import vote\n",
    "import functools\n",
    "\n",
    "print(\"Analyzing IDS for Vulnerabilities\")\n",
    "\n",
    "X_test_nr = []\n",
    "y_test_nr = []\n",
    "\n",
    "def label_checker(expected, mapping):\n",
    "    return vote.mapping_check_argmax(mapping, expected)\n",
    "\n",
    "e = vote.Ensemble.from_sklearn(model1)\n",
    "delta = 0.00015 # 0.015% perturbations, very stealthy\n",
    "passe = 0\n",
    "\n",
    "for i in tqdm(range(len(X_test_res_scaled))):\n",
    "    xvec = X_test_res_scaled[i]\n",
    "    label = y_test_res.iloc[i]\n",
    "    if model1.predict([np.asarray(xvec)]) != label: # Don't bother with samples that were misclassified\n",
    "        continue\n",
    "    domain = [(max(0.0, x-delta), min(1.0, x+delta)) for x in xvec]\n",
    "    checker = functools.partial(label_checker, label)\n",
    "    passed = e.absref(checker, domain)\n",
    "    if not passed:\n",
    "        X_test_nr.append(xvec)\n",
    "        y_test_nr.append(label)\n",
    "    else:\n",
    "        passe += 1 \n",
    "     \n",
    "print('IDS Robustness: {:.3f}'.format(passe/len(X_test_res_scaled)))"
   ]
  },
  {
   "cell_type": "code",
   "execution_count": null,
   "metadata": {},
   "outputs": [
    {
     "name": "stdout",
     "output_type": "stream",
     "text": [
      "Adversarial Examples:  Counter({0: 10800, 1: 10080})\n"
     ]
    }
   ],
   "source": [
    "adversarial_examples = []\n",
    "true_labels = []\n",
    "multiplier = 30\n",
    "delta = 0.0001\n",
    "\n",
    "for xvec, label in zip(X_test_nr, y_test_nr):  \n",
    "    \n",
    "    def check_robustness(m):\n",
    "        o = vote.mapping_check_argmax(m, label)\n",
    "        if o == vote.FAIL:\n",
    "            if label==0:\n",
    "                for i in range(360*multiplier):\n",
    "                    np.random.seed(42*i)\n",
    "                    center = [np.random.uniform(low=m.inputs[dim].lower, high=m.inputs[dim].upper) for dim in range(m.nb_inputs)]\n",
    "                    assert(model1.predict([center]) != label)\n",
    "                    adversarial_examples.append(center)\n",
    "                    true_labels.append(label)\n",
    "            if label==1:\n",
    "                for i in range(42*multiplier):\n",
    "                    np.random.seed(42*i)\n",
    "                    center = [np.random.uniform(low=m.inputs[dim].lower, high=m.inputs[dim].upper) for dim in range(m.nb_inputs)]\n",
    "                    assert(model1.predict([center]) != label)\n",
    "                    adversarial_examples.append(center)\n",
    "                    true_labels.append(label)\n",
    "        return o\n",
    "        \n",
    "    \n",
    "    input_region = [(max(x - delta, 0.0), min(1.0, x + delta)) for x in xvec]     \n",
    "    e.absref(check_robustness, input_region)\n",
    "    \n",
    "print(\"Adversarial Examples: \", Counter(true_labels))"
   ]
  },
  {
   "cell_type": "code",
   "execution_count": null,
   "metadata": {},
   "outputs": [],
   "source": [
    "import pickle\n",
    "\n",
    "with open('combined_intervals_1_s.pkl', 'rb') as f1:\n",
    "    combined_intervals_1 = pickle.load(f1)\n",
    "\n",
    "with open('combined_intervals_0_s.pkl', 'rb') as f2:\n",
    "    combined_intervals_0 = pickle.load(f2)"
   ]
  },
  {
   "cell_type": "code",
   "execution_count": null,
   "metadata": {},
   "outputs": [
    {
     "name": "stdout",
     "output_type": "stream",
     "text": [
      "Evaluation Samples: 40668\n"
     ]
    }
   ],
   "source": [
    "test_set = np.concatenate((X_test_res_scaled, adversarial_examples))\n",
    "test_lab_sym = np.concatenate((np.zeros(len(y_test_res), dtype=bool), np.ones(len(true_labels), dtype=bool)))\n",
    "\n",
    "test_lab = np.concatenate((y_test_res, true_labels))\n",
    "\n",
    "print(\"Evaluation Samples:\", len(test_set))"
   ]
  },
  {
   "cell_type": "code",
   "execution_count": null,
   "metadata": {},
   "outputs": [],
   "source": [
    "from sklearn.inspection import permutation_importance\n",
    "\n",
    "perm_set = np.concatenate((X_train_res_scaled, X_valid_res_scaled))\n",
    "perm_lab = np.concatenate((y_train_res, y_valid_res))\n",
    "\n",
    "perm_importance = permutation_importance(model1, perm_set, perm_lab, random_state=12345, n_repeats=5, n_jobs=-1)\n",
    "wv = perm_importance['importances_mean']"
   ]
  },
  {
   "cell_type": "code",
   "execution_count": null,
   "metadata": {},
   "outputs": [],
   "source": [
    "def distance(samples):\n",
    "    distances = []\n",
    "    preds = model1.predict(np.asarray(samples))\n",
    "    for sample, pred in zip(np.asarray(samples), preds):\n",
    "        if pred == 1:\n",
    "            distances.append(np.sum(wv * [sample[i] in combined_intervals_0[i] for i in range(e.nb_inputs)]))\n",
    "        else:\n",
    "            distances.append(np.sum(wv * [sample[i] in combined_intervals_1[i] for i in range(e.nb_inputs)]))\n",
    "    return distances"
   ]
  },
  {
   "cell_type": "code",
   "execution_count": null,
   "metadata": {},
   "outputs": [],
   "source": [
    "distances_X_test  = distance(X_test_res_scaled)\n",
    "distances_adversarial_examples = distance(adversarial_examples)"
   ]
  },
  {
   "cell_type": "code",
   "execution_count": null,
   "metadata": {},
   "outputs": [
    {
     "data": {
      "image/png": "[encoded data removed]",
      "text/plain": [
       "<Figure size 640x480 with 1 Axes>"
      ]
     },
     "metadata": {},
     "output_type": "display_data"
    },
    {
     "name": "stdout",
     "output_type": "stream",
     "text": [
      "0.436\n"
     ]
    }
   ],
   "source": [
    "import matplotlib.pyplot as plt\n",
    "from sklearn.metrics import roc_curve, auc, RocCurveDisplay, confusion_matrix\n",
    "\n",
    "S = np.concatenate((distances_X_test, distances_adversarial_examples))\n",
    "\n",
    "fpr, tpr, thresholds = roc_curve(test_lab_sym, S)\n",
    "roc_auc = auc(fpr, tpr)\n",
    "display = RocCurveDisplay(fpr=fpr, tpr=tpr, roc_auc=roc_auc, estimator_name='Iceman')\n",
    "display.plot()\n",
    "plt.show()\n",
    "\n",
    "optimal_idx = np.argmax(tpr - fpr)\n",
    "threshold = round(thresholds[optimal_idx],3)\n",
    "print(threshold)"
   ]
  },
  {
   "cell_type": "markdown",
   "metadata": {},
   "source": [
    "## Then we evaluate using Iceman! "
   ]
  },
  {
   "cell_type": "code",
   "execution_count": null,
   "metadata": {},
   "outputs": [],
   "source": [
    "def IDS(x, threshold):\n",
    "    S = distance(x)\n",
    "    predictions, preds = [], model1.predict(np.asarray(x))\n",
    "    for score, pred in zip(S, preds):\n",
    "        if score <= threshold:\n",
    "            predictions.append(pred)\n",
    "        else:\n",
    "            predictions.append(abs(1-pred))\n",
    "    return predictions"
   ]
  },
  {
   "cell_type": "code",
   "execution_count": null,
   "metadata": {},
   "outputs": [],
   "source": [
    "y_pred = IDS(test_set, threshold)"
   ]
  },
  {
   "cell_type": "code",
   "execution_count": null,
   "metadata": {},
   "outputs": [
    {
     "name": "stdout",
     "output_type": "stream",
     "text": [
      "Acc:  0.99 \n",
      "F1-Score:  0.989 \n",
      "MCC:  0.979\n",
      "Rec:  0.979 \n",
      "Prec:  1.0 \n",
      "AUC:  0.994\n",
      "Equal Error Rate:  0.02\n",
      "True Positive Rate (TPR): 1.000\n",
      "True Negative Rate (TNR): 0.979\n",
      "False Positive Rate (FPR): 0.021\n",
      "False Negative Rate (FNR): 0.000\n"
     ]
    }
   ],
   "source": [
    "fpr, tpr, thresholds = roc_curve(test_lab_sym, S)\n",
    "roc_auc = auc(fpr, tpr)\n",
    "print(\"Acc: \", round(accuracy_score(y_pred, test_lab), 3), \"\\nF1-Score: \", round(f1_score(y_pred, test_lab), 3), \"\\nMCC: \", round(matthews_corrcoef(y_pred, test_lab),3))\n",
    "print(\"Rec: \", round(recall_score(y_pred, test_lab), 3), \"\\nPrec: \", round(precision_score(y_pred, test_lab), 3), \"\\nAUC: \", round(roc_auc, 3))\n",
    "fpr, tpr, thresholds = roc_curve(test_lab_sym, S)\n",
    "fnr = 1 - tpr\n",
    "eer = fpr[np.nanargmin(np.absolute((fnr - fpr)))]\n",
    "print(\"Equal Error Rate: \", round(eer,3))\n",
    "# Calculate confusion matrix\n",
    "tn, fp, fn, tp = confusion_matrix(test_lab, y_pred).ravel()\n",
    "# Calculate rates\n",
    "tpr = tp / (tp + fn)  # True Positive Rate\n",
    "fpr = fp / (fp + tn)  # False Positive Rate\n",
    "tnr = tn / (tn + fp)  # True Negative Rate\n",
    "fnr = fn / (fn + tp)  # False Negative Rate\n",
    "# Print rates\n",
    "print(f\"True Positive Rate (TPR): {tpr:.3f}\")\n",
    "print(f\"True Negative Rate (TNR): {tnr:.3f}\")\n",
    "print(f\"False Positive Rate (FPR): {fpr:.3f}\")\n",
    "print(f\"False Negative Rate (FNR): {fnr:.3f}\")"
   ]
  },
  {
   "cell_type": "markdown",
   "metadata": {},
   "source": [
    "## Alert Management Stuff!"
   ]
  },
  {
   "cell_type": "code",
   "execution_count": null,
   "metadata": {},
   "outputs": [],
   "source": [
    "true_positives = X_test_res_scaled[y_test_res == 1] # True Attack. Investigate!\n",
    "true_negatives = X_test_res_scaled[y_test_res == 0] # True Benign. Do Nothing!\n",
    "false_positives = [example for example, label in zip(adversarial_examples, true_labels) if label == 0] # Evasion (true_label = benign, pred = attack). Caution!\n",
    "false_negatives = [example for example, label in zip(adversarial_examples, true_labels) if label == 1] # Evasion (true_label = attack, pred = benign). Investigate!\n",
    "\n",
    "exp_newset = np.concatenate((true_positives, true_negatives, false_positives, false_negatives))\n",
    "exp_newlab = np.concatenate((np.full(len(true_positives), 1), np.full(len(true_negatives), 0), np.full(len(false_positives), 3), np.full(len(false_negatives), 2)))"
   ]
  },
  {
   "cell_type": "code",
   "execution_count": null,
   "metadata": {},
   "outputs": [],
   "source": [
    "def IDS_alert(x, threshold, filter = False):\n",
    "    S = distance(x)\n",
    "    predictions, preds = [], model1.predict(np.asarray(x))\n",
    "    for score, pred in zip(S, preds):\n",
    "        if score <= threshold:\n",
    "            if pred == 1:\n",
    "                predictions.append('tp' if filter else 1) # TP\n",
    "            else:\n",
    "                predictions.append('tn' if filter else 0) # TN\n",
    "        else:\n",
    "            if pred == 1:\n",
    "                predictions.append('fp' if filter else 3) # FP\n",
    "            else:\n",
    "                predictions.append('fn' if filter else 2) # FN\n",
    "    return predictions"
   ]
  },
  {
   "cell_type": "code",
   "execution_count": null,
   "metadata": {},
   "outputs": [
    {
     "name": "stdout",
     "output_type": "stream",
     "text": [
      "              precision    recall  f1-score   support\n",
      "\n",
      "           0       1.00      0.96      0.98      9894\n",
      "           1       1.00      1.00      1.00      9894\n",
      "           2       0.96      1.00      0.98     10080\n",
      "           3       1.00      1.00      1.00     10800\n",
      "\n",
      "    accuracy                           0.99     40668\n",
      "   macro avg       0.99      0.99      0.99     40668\n",
      "weighted avg       0.99      0.99      0.99     40668\n",
      "\n"
     ]
    }
   ],
   "source": [
    "from sklearn.metrics import classification_report\n",
    "\n",
    "y_pred = IDS_alert(exp_newset, threshold)\n",
    "\n",
    "# Print classification report\n",
    "print(classification_report(exp_newlab, y_pred))"
   ]
  },
  {
   "cell_type": "code",
   "execution_count": null,
   "metadata": {},
   "outputs": [
    {
     "name": "stdout",
     "output_type": "stream",
     "text": [
      "              precision    recall  f1-score   support\n",
      "\n",
      "          fn       0.96      1.00      0.98     10080\n",
      "          fp       1.00      1.00      1.00     10800\n",
      "          tn       1.00      0.96      0.98      9894\n",
      "          tp       1.00      1.00      1.00      9894\n",
      "\n",
      "    accuracy                           0.99     40668\n",
      "   macro avg       0.99      0.99      0.99     40668\n",
      "weighted avg       0.99      0.99      0.99     40668\n",
      "\n"
     ]
    }
   ],
   "source": [
    "exp_newlab_filter = np.concatenate((np.full(len(true_positives), 'tp'), np.full(len(true_negatives), 'tn'), np.full(len(false_positives), 'fp'), np.full(len(false_negatives), 'fn')))\n",
    "\n",
    "y_pred = IDS_alert(exp_newset, threshold, filter=True)\n",
    "\n",
    "# Print classification report\n",
    "print(classification_report(exp_newlab_filter, y_pred))"
   ]
  },
  {
   "cell_type": "markdown",
   "metadata": {},
   "source": [
    "## Now we evaluate performance using VERITAS"
   ]
  },
  {
   "cell_type": "code",
   "execution_count": null,
   "metadata": {},
   "outputs": [],
   "source": [
    "import veritas\n",
    "\n",
    "def veritas_attack(model, samples, labels, epsilon, timeout=1, search_steps=100, verbose=False):\n",
    "    adversarial_examples, true_labels = [], []\n",
    "    assert len(np.unique(np.asarray(y_test))), \"Input must be a binary-classification problem with labels 0/1\"\n",
    "    assert np.min(X_test_nr)>=0 and np.max(X_test_nr)<=1.0, \"Input Dataset must be Min-Max Normalised\"\n",
    "    at = veritas.get_addtree(model)\n",
    "    print(\"\\nFinding Adversarial Examples using Veritas:\")\n",
    "    for i in tqdm(range(len(labels))):\n",
    "        base_example = samples[i]\n",
    "        true_label = labels[i]\n",
    "        if model.predict([base_example]) != true_label:\n",
    "            if verbose:\n",
    "                print(i, \"Skipping Misclassified Sample\",\"\\n\")\n",
    "            continue\n",
    "        heur = veritas.HeuristicType.MAX_OUTPUT if true_label == 0 else veritas.HeuristicType.MIN_OUTPUT\n",
    "        config = veritas.Config(heur)\n",
    "        config.ignore_state_when_worse_than = 0.0\n",
    "        prune_box = [veritas.Interval(max(0.0, x-epsilon), min(1.0, x+epsilon)) for x in base_example]\n",
    "        search = config.get_search(at, prune_box)\n",
    "        stop_reason = search.step_for(timeout, search_steps) \n",
    "        while search.num_solutions() == 0:\n",
    "            if search.steps(search_steps) == veritas.StopReason.NO_MORE_OPEN or stop_reason:\n",
    "                if verbose:\n",
    "                    print(i, \"Timeout & Skipped\",\"\\n\") \n",
    "                break\n",
    "        if search.num_solutions() > 0:\n",
    "            sol = search.get_solution(0)\n",
    "            adv_example = veritas.get_closest_example(sol, base_example, eps=1e-3)\n",
    "            predicted_label = int(model.predict([adv_example]))\n",
    "            l_inf = np.max(np.abs(base_example - adv_example))\n",
    "            if int(predicted_label) != int(true_label) and l_inf < epsilon:\n",
    "                adversarial_examples.append(adv_example)\n",
    "                true_labels.append(true_label)\n",
    "                if verbose:\n",
    "                    print(i, \"True Label:\", str(true_label), \"--> Adversarial Label:\", str(predicted_label), \"L-inf:\", l_inf, \"\\n\")\n",
    "            else:\n",
    "                if verbose:\n",
    "                    print(i, \"Debugging Needed\",\"\\n\") \n",
    "        else:\n",
    "            if verbose:\n",
    "                pass\n",
    "                print(i, \"No Adversarial Example Found\",\"\\n\")\n",
    "    print(\"\\nFound:\", len(adversarial_examples), \"| Split:\", Counter(true_labels))\n",
    "    return adversarial_examples, true_labels"
   ]
  },
  {
   "cell_type": "code",
   "execution_count": null,
   "metadata": {},
   "outputs": [
    {
     "name": "stdout",
     "output_type": "stream",
     "text": [
      "SKLEARN: RF classifier with 1 classes\n",
      "\n",
      "Finding Adversarial Examples using Veritas:\n"
     ]
    },
    {
     "name": "stderr",
     "output_type": "stream",
     "text": [
      "100%|██████████| 39/39 [00:00<00:00, 113.26it/s]"
     ]
    },
    {
     "name": "stdout",
     "output_type": "stream",
     "text": [
      "\n",
      "Found: 0 | Split: Counter()\n"
     ]
    },
    {
     "name": "stderr",
     "output_type": "stream",
     "text": [
      "\n"
     ]
    }
   ],
   "source": [
    "adversarial_examples, true_labels = veritas_attack(model1, np.asarray(X_test_nr), np.asarray(y_test_nr), 0.00015, 100, 5000)"
   ]
  },
  {
   "cell_type": "markdown",
   "metadata": {},
   "source": [
    "Apparently, VERITAS could not find any adversarial examples! "
   ]
  },
  {
   "cell_type": "markdown",
   "metadata": {},
   "source": [
    "## Then we evaluate using GROOT!"
   ]
  },
  {
   "cell_type": "code",
   "execution_count": null,
   "metadata": {},
   "outputs": [
    {
     "name": "stderr",
     "output_type": "stream",
     "text": [
      "[Parallel(n_jobs=10)]: Using backend LokyBackend with 10 concurrent workers.\n",
      "[Parallel(n_jobs=10)]: Done  30 tasks      | elapsed:   13.0s\n",
      "[Parallel(n_jobs=10)]: Done  50 out of  50 | elapsed:   14.5s finished\n"
     ]
    },
    {
     "data": {
      "text/plain": [
       "GrootRandomForestClassifier(attack_model=[0.00015, 0.00015, 0.00015, 0.00015,\n",
       "                                          0.00015, 0.00015, 0.00015, 0.00015,\n",
       "                                          0.00015, 0.00015, 0.00015],\n",
       "                            max_depth=10, n_estimators=50, n_jobs=10,\n",
       "                            random_state=42, verbose=True)"
      ]
     },
     "execution_count": 21,
     "metadata": {},
     "output_type": "execute_result"
    }
   ],
   "source": [
    "from groot.model import GrootRandomForestClassifier\n",
    "forest = GrootRandomForestClassifier(n_estimators=50, max_depth=10, attack_model = [0.00015] * X_train_res_scaled.shape[1], random_state=42, verbose=True, n_jobs=10)\n",
    "\n",
    "forest.fit(np.asarray(X_train_res_scaled), np.asarray(y_train_res))\n"
   ]
  },
  {
   "cell_type": "code",
   "execution_count": null,
   "metadata": {},
   "outputs": [],
   "source": [
    "y_pred = forest.predict(test_set)"
   ]
  },
  {
   "cell_type": "code",
   "execution_count": null,
   "metadata": {},
   "outputs": [
    {
     "name": "stdout",
     "output_type": "stream",
     "text": [
      "Acc:  0.876 \n",
      "F1-Score:  0.855 \n",
      "MCC:  0.775\n",
      "Rec:  1.0 \n",
      "Prec:  0.747 \n",
      "AUC:  0.902\n",
      "True Positive Rate (TPR): 0.747\n",
      "True Negative Rate (TNR): 1.000\n",
      "False Positive Rate (FPR): 0.000\n",
      "False Negative Rate (FNR): 0.253\n"
     ]
    }
   ],
   "source": [
    "from sklearn.metrics import roc_auc_score\n",
    "\n",
    "print(\"Acc: \", round(accuracy_score(y_pred, test_lab), 3), \"\\nF1-Score: \", round(f1_score(y_pred, test_lab), 3), \"\\nMCC: \", round(matthews_corrcoef(y_pred, test_lab),3))\n",
    "print(\"Rec: \", round(recall_score(y_pred, test_lab), 3), \"\\nPrec: \", round(precision_score(y_pred, test_lab), 3), \"\\nAUC: \", round(roc_auc_score(y_pred, test_lab), 3))\n",
    "# Calculate confusion matrix\n",
    "tn, fp, fn, tp = confusion_matrix(test_lab, y_pred).ravel()\n",
    "# Calculate rates\n",
    "tpr = tp / (tp + fn)  # True Positive Rate\n",
    "fpr = fp / (fp + tn)  # False Positive Rate\n",
    "tnr = tn / (tn + fp)  # True Negative Rate\n",
    "fnr = fn / (fn + tp)  # False Negative Rate\n",
    "# Print rates\n",
    "print(f\"True Positive Rate (TPR): {tpr:.3f}\")\n",
    "print(f\"True Negative Rate (TNR): {tnr:.3f}\")\n",
    "print(f\"False Positive Rate (FPR): {fpr:.3f}\")\n",
    "print(f\"False Negative Rate (FNR): {fnr:.3f}\")"
   ]
  },
  {
   "cell_type": "markdown",
   "metadata": {},
   "source": [
    "## Then we evaluate using OC-Score!"
   ]
  },
  {
   "cell_type": "code",
   "execution_count": null,
   "metadata": {},
   "outputs": [
    {
     "name": "stdout",
     "output_type": "stream",
     "text": [
      "Training Accuracy: 1.000\n"
     ]
    }
   ],
   "source": [
    "ytrain_pred = model1.predict(X_train_res_scaled) # For the Reference Set\n",
    "acc_train = accuracy_score(y_train_res, ytrain_pred)\n",
    "print(f\"Training Accuracy: {acc_train:.3f}\")"
   ]
  },
  {
   "cell_type": "code",
   "execution_count": null,
   "metadata": {},
   "outputs": [],
   "source": [
    "# Find a reference set, e.g. set of correctly classified training examples\n",
    "xref_mask = ytrain_pred == y_train_res\n",
    "xref = X_train_res_scaled[xref_mask]\n",
    "dtype = np.uint16\n",
    "idref_train = model1.apply(xref).astype(dtype)"
   ]
  },
  {
   "cell_type": "code",
   "execution_count": null,
   "metadata": {},
   "outputs": [],
   "source": [
    "idref_exp = model1.apply(test_set).astype(dtype)"
   ]
  },
  {
   "cell_type": "code",
   "execution_count": null,
   "metadata": {},
   "outputs": [
    {
     "data": {
      "image/png": "[encoded data removed]",
      "text/plain": [
       "<Figure size 640x480 with 1 Axes>"
      ]
     },
     "metadata": {},
     "output_type": "display_data"
    },
    {
     "name": "stdout",
     "output_type": "stream",
     "text": [
      "13\n"
     ]
    }
   ],
   "source": [
    "import ocscore\n",
    "\n",
    "S = ocscore.ocscores(idref_train, idref_exp)\n",
    "\n",
    "fpr, tpr, thresholds = roc_curve(test_lab_sym, S, drop_intermediate = False)\n",
    "roc_auc = auc(fpr, tpr)\n",
    "display = RocCurveDisplay(fpr=fpr, tpr=tpr, roc_auc=roc_auc, estimator_name='OC-Score')\n",
    "display.plot()\n",
    "plt.show()\n",
    "\n",
    "optimal_idx = np.argmax(tpr - fpr)\n",
    "threshold = round(thresholds[optimal_idx], 3)\n",
    "print(threshold)"
   ]
  },
  {
   "cell_type": "code",
   "execution_count": null,
   "metadata": {},
   "outputs": [],
   "source": [
    "def OC_predict(x, refset, threshold):\n",
    "    testset = model1.apply(x).astype(dtype)\n",
    "    S = ocscore.ocscores(refset, testset)\n",
    "    predictions, preds = [], model1.predict(np.asarray(x))\n",
    "    for score, pred in zip(S, preds):\n",
    "        if score <= threshold:\n",
    "            predictions.append(pred)\n",
    "        else:\n",
    "            predictions.append(abs(1-pred))\n",
    "    return predictions"
   ]
  },
  {
   "cell_type": "code",
   "execution_count": null,
   "metadata": {},
   "outputs": [],
   "source": [
    "y_pred = OC_predict(test_set, idref_train, threshold)"
   ]
  },
  {
   "cell_type": "code",
   "execution_count": null,
   "metadata": {},
   "outputs": [
    {
     "name": "stdout",
     "output_type": "stream",
     "text": [
      "Acc:  0.982 \n",
      "F1-Score:  0.981 \n",
      "MCC:  0.964\n",
      "Rec:  1.0 \n",
      "Prec:  0.963 \n",
      "AUC:  0.999\n",
      "True Positive Rate (TPR): 0.963\n",
      "True Negative Rate (TNR): 1.000\n",
      "False Positive Rate (FPR): 0.000\n",
      "False Negative Rate (FNR): 0.037\n"
     ]
    }
   ],
   "source": [
    "fpr, tpr, thresholds = roc_curve(test_lab_sym, S)\n",
    "roc_auc = auc(fpr, tpr)\n",
    "print(\"Acc: \", round(accuracy_score(y_pred, test_lab), 3), \"\\nF1-Score: \", round(f1_score(y_pred, test_lab), 3), \"\\nMCC: \", round(matthews_corrcoef(y_pred, test_lab),3))\n",
    "print(\"Rec: \", round(recall_score(y_pred, test_lab), 3), \"\\nPrec: \", round(precision_score(y_pred, test_lab), 3), \"\\nAUC: \", round(roc_auc, 3))\n",
    "# Calculate confusion matrix\n",
    "tn, fp, fn, tp = confusion_matrix(test_lab, y_pred).ravel()\n",
    "# Calculate rates\n",
    "tpr = tp / (tp + fn)  # True Positive Rate\n",
    "fpr = fp / (fp + tn)  # False Positive Rate\n",
    "tnr = tn / (tn + fp)  # True Negative Rate\n",
    "fnr = fn / (fn + tp)  # False Negative Rate\n",
    "# Print rates\n",
    "print(f\"True Positive Rate (TPR): {tpr:.3f}\")\n",
    "print(f\"True Negative Rate (TNR): {tnr:.3f}\")\n",
    "print(f\"False Positive Rate (FPR): {fpr:.3f}\")\n",
    "print(f\"False Negative Rate (FNR): {fnr:.3f}\")"
   ]
  },
  {
   "cell_type": "markdown",
   "metadata": {},
   "source": [
    "## Timing Experiments!"
   ]
  },
  {
   "cell_type": "code",
   "execution_count": null,
   "metadata": {},
   "outputs": [],
   "source": [
    "runs = 100"
   ]
  },
  {
   "cell_type": "code",
   "execution_count": null,
   "metadata": {},
   "outputs": [
    {
     "name": "stdout",
     "output_type": "stream",
     "text": [
      "Complete!\n"
     ]
    }
   ],
   "source": [
    "times_3_iceman = []\n",
    "\n",
    "for _ in tqdm(range(runs)):\n",
    "    time_output = %timeit -o -n 1 -r 1 -q y_pred = IDS(test_set, threshold=0.4997)\n",
    "    times_3_iceman.append(time_output.average)\n",
    "\n",
    "with open('/home/ubuntu/IDS/times/times_3_iceman.pkl', 'wb') as f:\n",
    "    pickle.dump(times_3_iceman, f)\n",
    "print(\"Complete!\")"
   ]
  },
  {
   "cell_type": "code",
   "execution_count": null,
   "metadata": {},
   "outputs": [
    {
     "name": "stderr",
     "output_type": "stream",
     "text": [
      "  0%|          | 0/100 [00:00<?, ?it/s]"
     ]
    },
    {
     "name": "stderr",
     "output_type": "stream",
     "text": [
      "100%|██████████| 100/100 [00:12<00:00,  7.78it/s]"
     ]
    },
    {
     "name": "stdout",
     "output_type": "stream",
     "text": [
      "Complete!\n"
     ]
    },
    {
     "name": "stderr",
     "output_type": "stream",
     "text": [
      "\n"
     ]
    }
   ],
   "source": [
    "times_3_groot = []\n",
    "\n",
    "for _ in tqdm(range(runs)):\n",
    "    time_output = %timeit -o -n 1 -r 1 -q y_pred = forest.predict(test_set)\n",
    "    times_3_groot.append(time_output.average)\n",
    "\n",
    "with open('/home/ubuntu/IDS/times/times_3_groot.pkl', 'wb') as f:\n",
    "    pickle.dump(times_3_groot, f)\n",
    "print(\"Complete!\")"
   ]
  },
  {
   "cell_type": "code",
   "execution_count": null,
   "metadata": {},
   "outputs": [
    {
     "name": "stdout",
     "output_type": "stream",
     "text": [
      "Complete!\n"
     ]
    }
   ],
   "source": [
    "times_3_ocscore = []\n",
    "\n",
    "for _ in tqdm(range(runs)):\n",
    "    time_output = %timeit -o -n 1 -r 1 -q y_pred = OC_predict(test_set, idref_train, threshold)\n",
    "    times_3_ocscore.append(time_output.average)\n",
    "\n",
    "with open('/home/ubuntu/IDS/times/times_3_ocscore.pkl', 'wb') as f:\n",
    "    pickle.dump(times_3_ocscore, f)\n",
    "print(\"Complete!\")"
   ]
  }
 ],
 "metadata": {
  "kernelspec": {
   "display_name": "Python 3",
   "language": "python",
   "name": "python3"
  },
  "language_info": {
   "codemirror_mode": {
    "name": "ipython",
    "version": 3
   },
   "file_extension": ".py",
   "mimetype": "text/x-python",
   "name": "python",
   "nbconvert_exporter": "python",
   "pygments_lexer": "ipython3",
   "version": "3.8.10"
  }
 },
 "nbformat": 4,
 "nbformat_minor": 2
}
