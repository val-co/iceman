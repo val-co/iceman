{
 "cells": [
  {
   "cell_type": "markdown",
   "metadata": {},
   "source": [
    "## The CIC-IoV-2024 Experiment! "
   ]
  },
  {
   "cell_type": "code",
   "execution_count": 1,
   "metadata": {},
   "outputs": [],
   "source": [
    "import os\n",
    "import sys\n",
    "import vote\n",
    "import time\n",
    "import pickle\n",
    "import random\n",
    "import warnings\n",
    "import numpy as np\n",
    "import pandas as pd\n",
    "from tqdm import tqdm\n",
    "import plotly.io as pio\n",
    "import plotly.graph_objs as go\n",
    "import matplotlib.pyplot as plt\n",
    "np.set_printoptions(suppress=True)\n",
    "warnings.filterwarnings(\"ignore\")\n",
    "from IPython.display import clear_output\n",
    "from sklearn.metrics import accuracy_score, matthews_corrcoef, f1_score\n",
    "from sklearn.metrics import roc_curve, auc, RocCurveDisplay, confusion_matrix"
   ]
  },
  {
   "cell_type": "code",
   "execution_count": 2,
   "metadata": {},
   "outputs": [],
   "source": [
    "repo_dir = \"cic-iov-2024\"\n",
    "if not os.path.exists(repo_dir):\n",
    "    !git clone https://github.com/val-co/cic-iov-2024.git\n",
    "\n",
    "DATASET_DIRECTORY = '/home/ubuntu/IDS/' + repo_dir + '/'"
   ]
  },
  {
   "cell_type": "code",
   "execution_count": 3,
   "metadata": {},
   "outputs": [
    {
     "name": "stdout",
     "output_type": "stream",
     "text": [
      "DataFrame 'decimal_spoofing-GAS'\n",
      "DataFrame 'decimal_spoofing-SPEED'\n",
      "DataFrame 'decimal_spoofing-RPM'\n",
      "DataFrame 'decimal_spoofing-STEERING_WHEEL'\n",
      "DataFrame 'decimal_DoS'\n",
      "DataFrame 'decimal_benign'\n"
     ]
    }
   ],
   "source": [
    "# Dictionary to store dataframes\n",
    "dataframes = {}\n",
    "\n",
    "# Loop through all files in the directory\n",
    "for filename in os.listdir(DATASET_DIRECTORY):\n",
    "    \n",
    "    # Check if the file is a CSV\n",
    "    if filename.endswith('.csv'):\n",
    "        \n",
    "        # Generate the variable name from the filename (remove '.csv')\n",
    "        var_name = os.path.splitext(filename)[0]\n",
    "        \n",
    "        # Read the CSV file into a DataFrame\n",
    "        file_path = os.path.join(DATASET_DIRECTORY, filename)\n",
    "        dataframes[var_name] = pd.read_csv(file_path)\n",
    "        \n",
    "        # Drop the last 2 columns\n",
    "        dataframes[var_name] = dataframes[var_name].iloc[:, :-2]\n",
    "        \n",
    "        # Identify the third last column\n",
    "        third_last_col = dataframes[var_name].columns[-1]\n",
    "        \n",
    "        # Replace values in the third last column\n",
    "        dataframes[var_name][third_last_col] = dataframes[var_name][third_last_col].replace({'ATTACK': 1, 'BENIGN': 0})\n",
    "\n",
    "# Optionally, print the variables to verify\n",
    "for var_name, df in dataframes.items():\n",
    "    print(f\"DataFrame '{var_name}'\")"
   ]
  },
  {
   "cell_type": "code",
   "execution_count": 4,
   "metadata": {},
   "outputs": [
    {
     "name": "stdout",
     "output_type": "stream",
     "text": [
      "X_train shape: (844929, 9)\n",
      "y_train shape: (844929,)\n",
      "\n",
      "X_valid shape: (422465, 9)\n",
      "y_valid shape: (422465,)\n",
      "\n",
      "X_test shape: (140825, 9)\n",
      "y_test shape: (140825,)\n"
     ]
    }
   ],
   "source": [
    "from sklearn.model_selection import train_test_split\n",
    "\n",
    "test_df, test_l_df = {}, {}\n",
    "\n",
    "# Initialize empty DataFrames for combined datasets\n",
    "X_train = pd.DataFrame()\n",
    "X_valid = pd.DataFrame()\n",
    "X_test = pd.DataFrame()\n",
    "\n",
    "# Initialize empty Series for target variables\n",
    "y_train = pd.Series(dtype='int')\n",
    "y_valid = pd.Series(dtype='int')\n",
    "y_test = pd.Series(dtype='int')\n",
    "\n",
    "# Split each DataFrame and combine the splits\n",
    "for var_name, df in dataframes.items():\n",
    "    X = df.iloc[:, :-1]  # All columns except the last one\n",
    "    y = df.iloc[:, -1]   # The last column\n",
    "    \n",
    "    X_train_temp, X_temp, y_train_temp, y_temp = train_test_split(X, y, test_size=0.4, random_state=42)\n",
    "    X_valid_temp, X_test_temp, y_valid_temp, y_test_temp = train_test_split(X_temp, y_temp, test_size=0.25, random_state=42)\n",
    "    \n",
    "    test_df[var_name] = X_test_temp\n",
    "    test_l_df[var_name] = y_test_temp\n",
    "    \n",
    "    # Combine the splits into the respective datasets\n",
    "    X_train = pd.concat([X_train, X_train_temp])\n",
    "    X_valid = pd.concat([X_valid, X_valid_temp])\n",
    "    X_test = pd.concat([X_test, X_test_temp])\n",
    "    \n",
    "    y_train = pd.concat([y_train, y_train_temp])\n",
    "    y_valid = pd.concat([y_valid, y_valid_temp])\n",
    "    y_test = pd.concat([y_test, y_test_temp])\n",
    "\n",
    "# Optionally, print the shapes of the combined datasets to verify\n",
    "print(f\"X_train shape: {X_train.shape}\")\n",
    "print(f\"y_train shape: {y_train.shape}\")\n",
    "print()\n",
    "print(f\"X_valid shape: {X_valid.shape}\")\n",
    "print(f\"y_valid shape: {y_valid.shape}\")\n",
    "print()\n",
    "print(f\"X_test shape: {X_test.shape}\")\n",
    "print(f\"y_test shape: {y_test.shape}\")"
   ]
  },
  {
   "cell_type": "code",
   "execution_count": 5,
   "metadata": {},
   "outputs": [
    {
     "name": "stdout",
     "output_type": "stream",
     "text": [
      "Models Training\n",
      "Models Trained\n"
     ]
    }
   ],
   "source": [
    "from sklearn.preprocessing import MinMaxScaler\n",
    "from sklearn.ensemble import RandomForestClassifier\n",
    "\n",
    "# Create the scaler\n",
    "scaler = MinMaxScaler()\n",
    "\n",
    "# Fit the scaler on the training data\n",
    "scaler.fit(X_train)\n",
    "\n",
    "# Transform the training data\n",
    "X_train_scaled = scaler.transform(X_train)\n",
    "\n",
    "# Transform the validation data\n",
    "X_valid_scaled = scaler.transform(X_valid)\n",
    "\n",
    "# Transform the test data\n",
    "X_test_scaled = scaler.transform(X_test)\n",
    "\n",
    "model1 = RandomForestClassifier(n_estimators=25, max_depth=10, random_state=42)\n",
    "print(\"Models Training\")\n",
    "model1.fit(X_train_scaled, y_train)\n",
    "print(\"Models Trained\")"
   ]
  },
  {
   "cell_type": "code",
   "execution_count": 6,
   "metadata": {},
   "outputs": [
    {
     "name": "stdout",
     "output_type": "stream",
     "text": [
      "\n",
      "Model Metrics\n",
      "accuracy_score: 1.000\n",
      "recall_score: 1.000\n",
      "precision_score: 1.000\n",
      "f1_score: 1.000\n",
      "\n",
      "Confusion Matrix\n",
      "True Positive Rate (Sensitivity): 1.000\n",
      "True Negative Rate (Specificity): 1.000\n",
      "False Positive Rate (Type I Error): 0.000\n",
      "False Negative Rate (Type II Error): 0.000 \n",
      "\n",
      "Matthews Corelation Coefficient: 1.000\n",
      "AUC: 1.0\n"
     ]
    }
   ],
   "source": [
    "from sklearn.metrics import accuracy_score, recall_score, precision_score, f1_score, confusion_matrix, roc_auc_score, matthews_corrcoef\n",
    "\n",
    "y_pred = []\n",
    "    \n",
    "y_pred = model1.predict(X_test_scaled)\n",
    "    \n",
    "print(\"\\nModel Metrics\")\n",
    "print('accuracy_score: {:.3f}'.format(accuracy_score(y_pred, y_test)))\n",
    "print('recall_score: {:.3f}'.format(recall_score(y_pred, y_test)))\n",
    "print('precision_score: {:.3f}'.format(precision_score(y_pred, y_test)))\n",
    "print('f1_score: {:.3f}'.format(f1_score(y_pred, y_test)))\n",
    "\n",
    "# Calculate the confusion matrix\n",
    "confusion_matrix_result = confusion_matrix(y_test, y_pred)\n",
    "\n",
    "# Extract values from the confusion matrix\n",
    "TP = confusion_matrix_result[1, 1]  \n",
    "FP = confusion_matrix_result[0, 1]  \n",
    "FN = confusion_matrix_result[1, 0]  \n",
    "TN = confusion_matrix_result[0, 0] \n",
    "\n",
    "# Print the rates\n",
    "print(\"\\nConfusion Matrix\")\n",
    "print(\"True Positive Rate (Sensitivity): {:.3f}\".format(TP / (TP + FN))) \n",
    "print(\"True Negative Rate (Specificity): {:.3f}\".format(TN / (FP + TN))) \n",
    "print(\"False Positive Rate (Type I Error): {:.3f}\".format(FP / (FP + TN))) \n",
    "print(\"False Negative Rate (Type II Error): {:.3f}\".format(FN / (TP + FN)), \"\\n\") \n",
    "print(\"Matthews Corelation Coefficient: {:.3f}\".format(matthews_corrcoef(y_pred, y_test)))\n",
    "print(\"AUC:\", roc_auc_score(y_pred, y_test))"
   ]
  },
  {
   "cell_type": "code",
   "execution_count": null,
   "metadata": {},
   "outputs": [
    {
     "name": "stdout",
     "output_type": "stream",
     "text": [
      "skipping\n"
     ]
    }
   ],
   "source": [
    "%%script echo skipping\n",
    "\n",
    "import vote\n",
    "import functools\n",
    "\n",
    "print(\"Analyzing IDS for Vulnerabilities\")\n",
    "\n",
    "X_test_nr = []\n",
    "y_test_nr = []\n",
    "\n",
    "def label_checker(expected, mapping):\n",
    "    return vote.mapping_check_argmax(mapping, expected)\n",
    "\n",
    "e = vote.Ensemble.from_sklearn(model1)\n",
    "delta = 0.005\n",
    "passe = 0\n",
    "\n",
    "for i in tqdm(range(len(X_test_scaled))):\n",
    "    xvec = X_test_scaled[i]\n",
    "    label = y_test.iloc[i]\n",
    "    if model1.predict([np.asarray(xvec)]) != label: # Don't bother with samples that were misclassified\n",
    "        continue\n",
    "    domain = [(max(0.0, x-delta), min(1.0, x+delta)) for x in xvec]\n",
    "    checker = functools.partial(label_checker, label)\n",
    "    passed = e.absref(checker, domain)\n",
    "    if not passed:\n",
    "        X_test_nr.append(xvec)\n",
    "        y_test_nr.append(label)\n",
    "    else:\n",
    "        passe += 1 \n",
    "     \n",
    "print('IDS Robustness: {:.3f}'.format(passe/len(X_test_scaled)))"
   ]
  },
  {
   "cell_type": "code",
   "execution_count": null,
   "metadata": {},
   "outputs": [
    {
     "name": "stdout",
     "output_type": "stream",
     "text": [
      "skipping\n"
     ]
    }
   ],
   "source": [
    "%%script echo skipping\n",
    "\n",
    "X_verif = np.concatenate((X_valid_scaled, X_train_scaled))\n",
    "y_verif = np.concatenate((y_valid, y_train))\n",
    "\n",
    "print(X_verif.shape, y_verif.shape)"
   ]
  },
  {
   "cell_type": "code",
   "execution_count": null,
   "metadata": {},
   "outputs": [
    {
     "name": "stdout",
     "output_type": "stream",
     "text": [
      "skipping\n"
     ]
    }
   ],
   "source": [
    "%%script echo skipping\n",
    "import portion as P\n",
    "\n",
    "combined_intervals_1 = [P.empty() for _ in range(e.nb_inputs)] # Attack Regions\n",
    "combined_intervals_0 = [P.empty() for _ in range(e.nb_inputs)] # Benign Regions\n",
    "\n",
    "e = vote.Ensemble.from_sklearn(model1)\n",
    "\n",
    "for i in tqdm(range(len(X_verif))):\n",
    "    xvec = X_verif[i]\n",
    "    label = y_verif[i]\n",
    "\n",
    "    def check_robustness_1(m):\n",
    "        o = vote.mapping_check_argmax(m, label)\n",
    "        if o == vote.FAIL:\n",
    "          for dim in range(e.nb_inputs):\n",
    "            combined_intervals_1[dim] = combined_intervals_1[dim] | P.closed(m.inputs[dim].lower, m.inputs[dim].upper)\n",
    "          return vote.PASS # Because we want to keep checking the input space despite finding a violation\n",
    "        return o\n",
    "\n",
    "    def check_robustness_0(m):\n",
    "        o = vote.mapping_check_argmax(m, label)\n",
    "        if o == vote.FAIL:\n",
    "          for dim in range(e.nb_inputs):\n",
    "            combined_intervals_0[dim] = combined_intervals_0[dim] | P.closed(m.inputs[dim].lower, m.inputs[dim].upper)\n",
    "          return vote.PASS # Because we want to keep checking the input space despite finding a violation\n",
    "        return o\n",
    "\n",
    "    if model1.predict([np.asarray(xvec)]) != label: # Don't bother with samples that were misclassified\n",
    "      continue\n",
    "\n",
    "    if model1.predict([np.asarray(xvec)]) == 1: # If this sample was an attack, how can we make the model robust\n",
    "      input_region = [(max(x - delta, 0.0), min(1.0, x + delta)) for x in xvec]\n",
    "      e.absref(check_robustness_1, input_region)\n",
    "\n",
    "    if model1.predict([np.asarray(xvec)]) == 0: # If this sample was benign, how can we make the model robust\n",
    "      input_region = [(max(x - delta, 0.0), min(1.0, x + delta)) for x in xvec]\n",
    "      e.absref(check_robustness_0, input_region)\n",
    "\n",
    "print(\"Attack & Benign Robustifying Regions Generated\")"
   ]
  },
  {
   "cell_type": "code",
   "execution_count": null,
   "metadata": {},
   "outputs": [
    {
     "name": "stdout",
     "output_type": "stream",
     "text": [
      "skipping\n"
     ]
    }
   ],
   "source": [
    "%%script echo skipping\n",
    "\n",
    "with open('X_test_nr_iov.pkl', 'wb') as f1:\n",
    "    pickle.dump(X_test_nr,f1) \n",
    "    \n",
    "with open('y_test_nr_iov.pkl', 'wb') as f2:\n",
    "    pickle.dump(y_test_nr,f2) "
   ]
  },
  {
   "cell_type": "code",
   "execution_count": null,
   "metadata": {},
   "outputs": [
    {
     "name": "stdout",
     "output_type": "stream",
     "text": [
      "skipping\n"
     ]
    }
   ],
   "source": [
    "%%script echo skipping\n",
    "\n",
    "with open('combined_intervals_1_iov.pkl', 'wb') as f1:\n",
    "    pickle.dump(combined_intervals_1,f1) \n",
    "    \n",
    "with open('combined_intervals_0_iov.pkl', 'wb') as f2:\n",
    "    pickle.dump(combined_intervals_0,f2) "
   ]
  },
  {
   "cell_type": "code",
   "execution_count": null,
   "metadata": {},
   "outputs": [],
   "source": [
    "with open('X_test_nr_iov.pkl', 'rb') as f1:\n",
    "    X_test_nr = pickle.load(f1)\n",
    "\n",
    "with open('y_test_nr_iov.pkl', 'rb') as f2:\n",
    "    y_test_nr = pickle.load(f2)"
   ]
  },
  {
   "cell_type": "code",
   "execution_count": null,
   "metadata": {},
   "outputs": [
    {
     "name": "stderr",
     "output_type": "stream",
     "text": [
      "100%|██████████| 1518/1518 [00:04<00:00, 342.06it/s]"
     ]
    },
    {
     "name": "stdout",
     "output_type": "stream",
     "text": [
      "Adversarial Examples:  Counter({1: 1518})\n"
     ]
    },
    {
     "name": "stderr",
     "output_type": "stream",
     "text": [
      "\n"
     ]
    }
   ],
   "source": [
    "from collections import Counter\n",
    "\n",
    "adversarial_examples = []\n",
    "true_labels = []\n",
    "delta = 0.005\n",
    "\n",
    "e = vote.Ensemble.from_sklearn(model1)\n",
    "\n",
    "for i in tqdm(range(len(y_test_nr))): \n",
    "    xvec = X_test_nr[i]\n",
    "    label = y_test_nr[i] \n",
    "    \n",
    "    def check_robustness(m):\n",
    "        o = vote.mapping_check_argmax(m, label)\n",
    "        if o == vote.FAIL:\n",
    "            if label==0:\n",
    "                np.random.seed(42)\n",
    "                center = [np.random.uniform(low=m.inputs[dim].lower, high=m.inputs[dim].upper) for dim in range(m.nb_inputs)]\n",
    "                assert(model1.predict([center]) != label)\n",
    "                adversarial_examples.append(center)\n",
    "                true_labels.append(label)\n",
    "            if label==1:\n",
    "                np.random.seed(42)\n",
    "                center = [np.random.uniform(low=m.inputs[dim].lower, high=m.inputs[dim].upper) for dim in range(m.nb_inputs)]\n",
    "                assert(model1.predict([center]) != label)\n",
    "                adversarial_examples.append(center)\n",
    "                true_labels.append(label)\n",
    "        return o\n",
    "        \n",
    "    \n",
    "    input_region = [(max(x - delta, 0.0), min(1.0, x + delta)) for x in xvec]     \n",
    "    e.absref(check_robustness, input_region)\n",
    "    \n",
    "print(\"Adversarial Examples: \", Counter(true_labels))"
   ]
  },
  {
   "cell_type": "code",
   "execution_count": null,
   "metadata": {},
   "outputs": [],
   "source": [
    "import pickle\n",
    "\n",
    "with open('combined_intervals_1_iov.pkl', 'rb') as f1:\n",
    "    combined_intervals_1 = pickle.load(f1)\n",
    "\n",
    "with open('combined_intervals_0_iov.pkl', 'rb') as f2:\n",
    "    combined_intervals_0 = pickle.load(f2)"
   ]
  },
  {
   "cell_type": "code",
   "execution_count": null,
   "metadata": {},
   "outputs": [],
   "source": [
    "from sklearn.inspection import permutation_importance\n",
    "\n",
    "perm_set = np.concatenate((X_train_scaled, X_valid_scaled))\n",
    "perm_lab = np.concatenate((y_train, y_valid))\n",
    "\n",
    "perm_importance = permutation_importance(model1, perm_set, perm_lab, random_state=12345, n_repeats=5, n_jobs=-1)\n",
    "wv = perm_importance['importances_mean']"
   ]
  },
  {
   "cell_type": "code",
   "execution_count": null,
   "metadata": {},
   "outputs": [],
   "source": [
    "def distance(samples):\n",
    "    distances = []\n",
    "    preds = model1.predict(np.asarray(samples))\n",
    "    for sample, pred in zip(np.asarray(samples), preds):\n",
    "        if pred == 1:\n",
    "            distances.append(np.sum(wv * [sample[i] in combined_intervals_0[i] for i in range(e.nb_inputs)]))\n",
    "        else:\n",
    "            distances.append(np.sum(wv * [sample[i] in combined_intervals_1[i] for i in range(e.nb_inputs)]))\n",
    "    return distances"
   ]
  },
  {
   "cell_type": "markdown",
   "metadata": {},
   "source": [
    "## Now we add VERITAS into the mix!"
   ]
  },
  {
   "cell_type": "code",
   "execution_count": null,
   "metadata": {},
   "outputs": [],
   "source": [
    "import veritas\n",
    "\n",
    "def veritas_attack(model, samples, labels, epsilon, timeout=1, search_steps=100, verbose=False):\n",
    "    adversarial_examples, true_labels = [], []\n",
    "    assert len(np.unique(np.asarray(y_test))), \"Input must be a binary-classification problem with labels 0/1\"\n",
    "    assert np.min(X_test_nr)>=0 and np.max(X_test_nr)<=1.0, \"Input Dataset must be Min-Max Normalised\"\n",
    "    at = veritas.get_addtree(model)\n",
    "    print(\"\\nFinding Adversarial Examples using Veritas:\")\n",
    "    for i in tqdm(range(len(labels))):\n",
    "        base_example = samples[i]\n",
    "        true_label = labels[i]\n",
    "        if model.predict([base_example]) != true_label:\n",
    "            if verbose:\n",
    "                print(i, \"Skipping Misclassified Sample\",\"\\n\")\n",
    "            continue\n",
    "        heur = veritas.HeuristicType.MAX_OUTPUT if true_label == 0 else veritas.HeuristicType.MIN_OUTPUT\n",
    "        config = veritas.Config(heur)\n",
    "        config.ignore_state_when_worse_than = 0.0\n",
    "        prune_box = [veritas.Interval(max(0.0, x-epsilon), min(1.0, x+epsilon)) for x in base_example]\n",
    "        search = config.get_search(at, prune_box)\n",
    "        stop_reason = search.step_for(timeout, search_steps) \n",
    "        while search.num_solutions() == 0:\n",
    "            if search.steps(search_steps) == veritas.StopReason.NO_MORE_OPEN or stop_reason:\n",
    "                if verbose:\n",
    "                    print(i, \"Timeout & Skipped\",\"\\n\") \n",
    "                break\n",
    "        if search.num_solutions() > 0:\n",
    "            sol = search.get_solution(0)\n",
    "            adv_example = veritas.get_closest_example(sol, base_example, eps=1e-4)\n",
    "            predicted_label = int(model.predict([adv_example]))\n",
    "            l_inf = np.max(np.abs(base_example - adv_example))\n",
    "            if int(predicted_label) != int(true_label) and l_inf < epsilon:\n",
    "                adversarial_examples.append(adv_example)\n",
    "                true_labels.append(true_label)\n",
    "                if verbose:\n",
    "                    print(i, \"True Label:\", str(true_label), \"--> Adversarial Label:\", str(predicted_label), \"L-inf:\", l_inf, \"\\n\")\n",
    "            else:\n",
    "                if verbose:\n",
    "                    print(i, \"Debugging Needed\",\"\\n\") \n",
    "        else:\n",
    "            if verbose:\n",
    "                pass\n",
    "                print(i, \"No Adversarial Example Found\",\"\\n\")\n",
    "    print(\"\\nFound:\", len(adversarial_examples), \"| Split:\", Counter(true_labels))\n",
    "    return adversarial_examples, true_labels"
   ]
  },
  {
   "cell_type": "code",
   "execution_count": null,
   "metadata": {},
   "outputs": [
    {
     "name": "stdout",
     "output_type": "stream",
     "text": [
      "SKLEARN: RF classifier with 1 classes\n",
      "\n",
      "Finding Adversarial Examples using Veritas:\n"
     ]
    },
    {
     "name": "stderr",
     "output_type": "stream",
     "text": [
      "  0%|          | 0/1518 [00:00<?, ?it/s]"
     ]
    },
    {
     "name": "stderr",
     "output_type": "stream",
     "text": [
      "100%|██████████| 1518/1518 [00:08<00:00, 183.25it/s]"
     ]
    },
    {
     "name": "stdout",
     "output_type": "stream",
     "text": [
      "\n",
      "Found: 518 | Split: Counter({1: 518})\n"
     ]
    },
    {
     "name": "stderr",
     "output_type": "stream",
     "text": [
      "\n"
     ]
    }
   ],
   "source": [
    "adversarial_examples_new, true_labels_new = veritas_attack(model1, X_test_nr, y_test_nr, delta)"
   ]
  },
  {
   "cell_type": "code",
   "execution_count": null,
   "metadata": {},
   "outputs": [
    {
     "name": "stdout",
     "output_type": "stream",
     "text": [
      "Evaluation Samples: 4072\n"
     ]
    }
   ],
   "source": [
    "from imblearn.under_sampling import RandomUnderSampler\n",
    "\n",
    "adversarial_examples_cat = np.concatenate((adversarial_examples, adversarial_examples_new))\n",
    "true_labels_cat = np.concatenate((true_labels, true_labels_new))\n",
    "\n",
    "size = len(adversarial_examples_cat)\n",
    "\n",
    "# Initialize the undersampler with the desired sampling strategy\n",
    "rus = RandomUnderSampler(sampling_strategy={0: int(size/2), 1: int(size/2)}, random_state=42)\n",
    "X_sampled, y_sampled = rus.fit_resample(X_test_scaled, y_test)\n",
    "\n",
    "test_set = np.concatenate((X_sampled, adversarial_examples_cat))\n",
    "test_lab_sym = np.concatenate((np.zeros(len(y_sampled), dtype=bool), np.ones(len(true_labels_cat), dtype=bool)))\n",
    "\n",
    "test_lab = np.concatenate((y_sampled, true_labels_cat))\n",
    "\n",
    "print(\"Evaluation Samples:\", len(test_set))"
   ]
  },
  {
   "cell_type": "code",
   "execution_count": null,
   "metadata": {},
   "outputs": [],
   "source": [
    "distances_X_test  = distance(X_sampled)\n",
    "distances_adversarial_examples = distance(adversarial_examples_cat)"
   ]
  },
  {
   "cell_type": "code",
   "execution_count": null,
   "metadata": {},
   "outputs": [
    {
     "data": {
      "image/png": "[encoded data removed]",
      "text/plain": [
       "<Figure size 640x480 with 1 Axes>"
      ]
     },
     "metadata": {},
     "output_type": "display_data"
    },
    {
     "name": "stdout",
     "output_type": "stream",
     "text": [
      "0.18\n"
     ]
    }
   ],
   "source": [
    "import matplotlib.pyplot as plt\n",
    "from sklearn.metrics import roc_curve, auc, RocCurveDisplay, confusion_matrix\n",
    "\n",
    "S = np.concatenate((distances_X_test, distances_adversarial_examples))\n",
    "\n",
    "fpr, tpr, thresholds = roc_curve(test_lab_sym, S)\n",
    "roc_auc = auc(fpr, tpr)\n",
    "display = RocCurveDisplay(fpr=fpr, tpr=tpr, roc_auc=roc_auc, estimator_name='Iceman')\n",
    "display.plot()\n",
    "plt.show()\n",
    "\n",
    "optimal_idx = np.argmax(tpr - fpr)\n",
    "threshold = round(thresholds[optimal_idx],3)\n",
    "print(threshold)"
   ]
  },
  {
   "cell_type": "markdown",
   "metadata": {},
   "source": [
    "## Then we evaluate using Iceman! "
   ]
  },
  {
   "cell_type": "code",
   "execution_count": null,
   "metadata": {},
   "outputs": [],
   "source": [
    "def IDS(x, threshold):\n",
    "    S = distance(x)\n",
    "    predictions, preds = [], model1.predict(np.asarray(x))\n",
    "    for score, pred in zip(S, preds):\n",
    "        if score <= threshold:\n",
    "            predictions.append(pred)\n",
    "        else:\n",
    "            predictions.append(abs(1-pred))\n",
    "    return predictions\n"
   ]
  },
  {
   "cell_type": "code",
   "execution_count": null,
   "metadata": {},
   "outputs": [],
   "source": [
    "y_pred = IDS(test_set, threshold)"
   ]
  },
  {
   "cell_type": "code",
   "execution_count": null,
   "metadata": {},
   "outputs": [
    {
     "name": "stdout",
     "output_type": "stream",
     "text": [
      "Acc:  1.0 \n",
      "F1-Score:  1.0 \n",
      "MCC:  1.0\n",
      "Rec:  1.0 \n",
      "Prec:  1.0 \n",
      "AUC:  1.0\n",
      "Equal Error Rate:  0.0\n",
      "True Positive Rate (TPR): 1.000\n",
      "True Negative Rate (TNR): 1.000\n",
      "False Positive Rate (FPR): 0.000\n",
      "False Negative Rate (FNR): 0.000\n"
     ]
    }
   ],
   "source": [
    "fpr, tpr, thresholds = roc_curve(test_lab_sym, S)\n",
    "roc_auc = auc(fpr, tpr)\n",
    "print(\"Acc: \", round(accuracy_score(y_pred, test_lab), 3), \"\\nF1-Score: \", round(f1_score(y_pred, test_lab), 3), \"\\nMCC: \", round(matthews_corrcoef(y_pred, test_lab),3))\n",
    "print(\"Rec: \", round(recall_score(y_pred, test_lab), 3), \"\\nPrec: \", round(precision_score(y_pred, test_lab), 3), \"\\nAUC: \", round(roc_auc, 3))\n",
    "fpr, tpr, thresholds = roc_curve(test_lab_sym, S)\n",
    "fnr = 1 - tpr\n",
    "eer = fpr[np.nanargmin(np.absolute((fnr - fpr)))]\n",
    "print(\"Equal Error Rate: \", round(eer,3))\n",
    "# Calculate confusion matrix\n",
    "tn, fp, fn, tp = confusion_matrix(test_lab, y_pred).ravel()\n",
    "# Calculate rates\n",
    "tpr = tp / (tp + fn)  # True Positive Rate\n",
    "fpr = fp / (fp + tn)  # False Positive Rate\n",
    "tnr = tn / (tn + fp)  # True Negative Rate\n",
    "fnr = fn / (fn + tp)  # False Negative Rate\n",
    "# Print rates\n",
    "print(f\"True Positive Rate (TPR): {tpr:.3f}\")\n",
    "print(f\"True Negative Rate (TNR): {tnr:.3f}\")\n",
    "print(f\"False Positive Rate (FPR): {fpr:.3f}\")\n",
    "print(f\"False Negative Rate (FNR): {fnr:.3f}\")"
   ]
  },
  {
   "cell_type": "markdown",
   "metadata": {},
   "source": [
    "## Alert Management Stuff!"
   ]
  },
  {
   "cell_type": "code",
   "execution_count": null,
   "metadata": {},
   "outputs": [
    {
     "name": "stdout",
     "output_type": "stream",
     "text": [
      "Number of False Positives: 0\n"
     ]
    }
   ],
   "source": [
    "true_positives = X_sampled[y_sampled == 1] # True Attack. Investigate!\n",
    "true_negatives = X_sampled[y_sampled == 0] # True Benign. Do Nothing!\n",
    "false_positives = [example for example, label in zip(adversarial_examples_cat, true_labels_cat) if label == 0] # Evasion (true_label = benign, pred = attack). Caution!\n",
    "false_negatives = [example for example, label in zip(adversarial_examples_cat, true_labels_cat) if label == 1] # Evasion (true_label = attack, pred = benign). Investigate!\n",
    "\n",
    "print(\"Number of False Positives:\", len(false_positives))\n",
    "\n",
    "exp_newset = np.concatenate((true_positives, true_negatives, false_negatives))\n",
    "exp_newlab = np.concatenate((np.full(len(true_positives), 1), np.full(len(true_negatives), 0), np.full(len(false_negatives), 2)))"
   ]
  },
  {
   "cell_type": "code",
   "execution_count": null,
   "metadata": {},
   "outputs": [],
   "source": [
    "def IDS_alert(x, threshold, filter = False):\n",
    "    S = distance(x)\n",
    "    predictions, preds = [], model1.predict(np.asarray(x))\n",
    "    for score, pred in zip(S, preds):\n",
    "        if score <= threshold:\n",
    "            if pred == 1:\n",
    "                predictions.append('tp' if filter else 1) # TP\n",
    "            else:\n",
    "                predictions.append('tn' if filter else 0) # TN\n",
    "        else:\n",
    "            if pred == 1:\n",
    "                predictions.append('fp' if filter else 3) # FP\n",
    "            else:\n",
    "                predictions.append('fn' if filter else 2) # FN\n",
    "    return predictions"
   ]
  },
  {
   "cell_type": "code",
   "execution_count": null,
   "metadata": {},
   "outputs": [
    {
     "name": "stdout",
     "output_type": "stream",
     "text": [
      "              precision    recall  f1-score   support\n",
      "\n",
      "           0       1.00      1.00      1.00      1018\n",
      "           1       1.00      1.00      1.00      1018\n",
      "           2       1.00      1.00      1.00      2036\n",
      "\n",
      "    accuracy                           1.00      4072\n",
      "   macro avg       1.00      1.00      1.00      4072\n",
      "weighted avg       1.00      1.00      1.00      4072\n",
      "\n"
     ]
    }
   ],
   "source": [
    "from sklearn.metrics import classification_report\n",
    "\n",
    "y_pred = IDS_alert(exp_newset, threshold)\n",
    "\n",
    "# Print classification report\n",
    "print(classification_report(exp_newlab, y_pred))"
   ]
  },
  {
   "cell_type": "code",
   "execution_count": null,
   "metadata": {},
   "outputs": [
    {
     "name": "stdout",
     "output_type": "stream",
     "text": [
      "              precision    recall  f1-score   support\n",
      "\n",
      "          fn       1.00      1.00      1.00      2036\n",
      "          tn       1.00      1.00      1.00      1018\n",
      "          tp       1.00      1.00      1.00      1018\n",
      "\n",
      "    accuracy                           1.00      4072\n",
      "   macro avg       1.00      1.00      1.00      4072\n",
      "weighted avg       1.00      1.00      1.00      4072\n",
      "\n"
     ]
    }
   ],
   "source": [
    "exp_newlab_filter = np.concatenate((np.full(len(true_positives), 'tp'), np.full(len(true_negatives), 'tn'), np.full(len(false_negatives), 'fn')))\n",
    "\n",
    "y_pred = IDS_alert(exp_newset, threshold, filter=True)\n",
    "\n",
    "# Print classification report\n",
    "print(classification_report(exp_newlab_filter, y_pred))"
   ]
  },
  {
   "cell_type": "markdown",
   "metadata": {},
   "source": [
    "## Then we evaluate using GROOT!"
   ]
  },
  {
   "cell_type": "code",
   "execution_count": null,
   "metadata": {},
   "outputs": [
    {
     "name": "stderr",
     "output_type": "stream",
     "text": [
      "[Parallel(n_jobs=10)]: Using backend LokyBackend with 10 concurrent workers.\n",
      "[Parallel(n_jobs=10)]: Done  25 out of  25 | elapsed:   14.1s finished\n"
     ]
    },
    {
     "data": {
      "text/plain": [
       "GrootRandomForestClassifier(attack_model=[0.005, 0.005, 0.005, 0.005, 0.005,\n",
       "                                          0.005, 0.005, 0.005, 0.005],\n",
       "                            max_depth=10, n_estimators=25, n_jobs=10,\n",
       "                            random_state=42, verbose=True)"
      ]
     },
     "execution_count": 25,
     "metadata": {},
     "output_type": "execute_result"
    }
   ],
   "source": [
    "from groot.model import GrootRandomForestClassifier\n",
    "forest = GrootRandomForestClassifier(n_estimators=25, max_depth=10, attack_model = [delta] * X_train.shape[1], random_state=42, verbose=True, n_jobs=10)\n",
    "\n",
    "forest.fit(np.asarray(X_train), np.asarray(y_train))"
   ]
  },
  {
   "cell_type": "code",
   "execution_count": null,
   "metadata": {},
   "outputs": [],
   "source": [
    "y_pred = forest.predict(test_set)"
   ]
  },
  {
   "cell_type": "code",
   "execution_count": null,
   "metadata": {},
   "outputs": [
    {
     "name": "stdout",
     "output_type": "stream",
     "text": [
      "Acc:  0.735 \n",
      "F1-Score:  0.842 \n",
      "MCC:  0.091\n",
      "Rec:  0.761 \n",
      "Prec:  0.944 \n",
      "AUC:  0.578\n",
      "True Positive Rate (TPR): 0.944\n",
      "True Negative Rate (TNR): 0.110\n",
      "False Positive Rate (FPR): 0.890\n",
      "False Negative Rate (FNR): 0.056\n"
     ]
    }
   ],
   "source": [
    "from sklearn.metrics import roc_auc_score\n",
    "\n",
    "print(\"Acc: \", round(accuracy_score(y_pred, test_lab), 3), \"\\nF1-Score: \", round(f1_score(y_pred, test_lab), 3), \"\\nMCC: \", round(matthews_corrcoef(y_pred, test_lab),3))\n",
    "print(\"Rec: \", round(recall_score(y_pred, test_lab), 3), \"\\nPrec: \", round(precision_score(y_pred, test_lab), 3), \"\\nAUC: \", round(roc_auc_score(y_pred, test_lab), 3))\n",
    "# Calculate confusion matrix\n",
    "tn, fp, fn, tp = confusion_matrix(test_lab, y_pred).ravel()\n",
    "# Calculate rates\n",
    "tpr = tp / (tp + fn)  # True Positive Rate\n",
    "fpr = fp / (fp + tn)  # False Positive Rate\n",
    "tnr = tn / (tn + fp)  # True Negative Rate\n",
    "fnr = fn / (fn + tp)  # False Negative Rate\n",
    "# Print rates\n",
    "print(f\"True Positive Rate (TPR): {tpr:.3f}\")\n",
    "print(f\"True Negative Rate (TNR): {tnr:.3f}\")\n",
    "print(f\"False Positive Rate (FPR): {fpr:.3f}\")\n",
    "print(f\"False Negative Rate (FNR): {fnr:.3f}\")"
   ]
  },
  {
   "cell_type": "markdown",
   "metadata": {},
   "source": [
    "## Then we evaluate using OC-Score!"
   ]
  },
  {
   "cell_type": "code",
   "execution_count": null,
   "metadata": {},
   "outputs": [
    {
     "name": "stdout",
     "output_type": "stream",
     "text": [
      "Training Accuracy: 0.869\n"
     ]
    }
   ],
   "source": [
    "ytrain_pred = model1.predict(X_train) # For the Reference Set\n",
    "acc_train = accuracy_score(y_train, ytrain_pred)\n",
    "print(f\"Training Accuracy: {acc_train:.3f}\")"
   ]
  },
  {
   "cell_type": "code",
   "execution_count": null,
   "metadata": {},
   "outputs": [],
   "source": [
    "# Find a reference set, e.g. set of correctly classified training examples\n",
    "xref_mask = ytrain_pred == y_train\n",
    "xref = X_train[xref_mask]\n",
    "dtype = np.uint16\n",
    "idref_train = model1.apply(xref).astype(dtype)"
   ]
  },
  {
   "cell_type": "code",
   "execution_count": null,
   "metadata": {},
   "outputs": [],
   "source": [
    "exp_df = pd.DataFrame(test_set, columns=X_test.columns)\n",
    "idref_exp = model1.apply(exp_df).astype(dtype)"
   ]
  },
  {
   "cell_type": "code",
   "execution_count": null,
   "metadata": {},
   "outputs": [
    {
     "data": {
      "image/png": "[encoded data removed]",
      "text/plain": [
       "<Figure size 640x480 with 1 Axes>"
      ]
     },
     "metadata": {},
     "output_type": "display_data"
    },
    {
     "name": "stdout",
     "output_type": "stream",
     "text": [
      "10\n"
     ]
    }
   ],
   "source": [
    "import ocscore\n",
    "\n",
    "S = ocscore.ocscores(idref_train, idref_exp)\n",
    "\n",
    "fpr, tpr, thresholds = roc_curve(test_lab_sym, S, drop_intermediate = False)\n",
    "roc_auc = auc(fpr, tpr)\n",
    "display = RocCurveDisplay(fpr=fpr, tpr=tpr, roc_auc=roc_auc, estimator_name='OC-Score')\n",
    "display.plot()\n",
    "plt.show()\n",
    "\n",
    "optimal_idx = np.argmax(tpr - fpr)\n",
    "threshold = round(thresholds[optimal_idx], 3)\n",
    "print(threshold)"
   ]
  },
  {
   "cell_type": "code",
   "execution_count": null,
   "metadata": {},
   "outputs": [],
   "source": [
    "def OC_predict(x, refset, threshold):\n",
    "    x = pd.DataFrame(x, columns=X_test.columns)\n",
    "    testset = model1.apply(x).astype(dtype)\n",
    "    S = ocscore.ocscores(refset, testset)\n",
    "    predictions, preds = [], model1.predict(np.asarray(x))\n",
    "    for score, pred in zip(S, preds):\n",
    "        if score <= threshold:\n",
    "            predictions.append(pred)\n",
    "        else:\n",
    "            predictions.append(abs(1-pred))\n",
    "    return predictions"
   ]
  },
  {
   "cell_type": "code",
   "execution_count": null,
   "metadata": {},
   "outputs": [],
   "source": [
    "y_pred = OC_predict(test_set, idref_train, threshold)"
   ]
  },
  {
   "cell_type": "code",
   "execution_count": null,
   "metadata": {},
   "outputs": [
    {
     "name": "stdout",
     "output_type": "stream",
     "text": [
      "Acc:  0.558 \n",
      "F1-Score:  0.628 \n",
      "MCC:  0.207\n",
      "Rec:  0.851 \n",
      "Prec:  0.497 \n",
      "AUC:  0.376\n",
      "True Positive Rate (TPR): 0.497\n",
      "True Negative Rate (TNR): 0.740\n",
      "False Positive Rate (FPR): 0.260\n",
      "False Negative Rate (FNR): 0.503\n"
     ]
    }
   ],
   "source": [
    "fpr, tpr, thresholds = roc_curve(test_lab_sym, S)\n",
    "roc_auc = auc(fpr, tpr)\n",
    "print(\"Acc: \", round(accuracy_score(y_pred, test_lab), 3), \"\\nF1-Score: \", round(f1_score(y_pred, test_lab), 3), \"\\nMCC: \", round(matthews_corrcoef(y_pred, test_lab),3))\n",
    "print(\"Rec: \", round(recall_score(y_pred, test_lab), 3), \"\\nPrec: \", round(precision_score(y_pred, test_lab), 3), \"\\nAUC: \", round(roc_auc, 3))\n",
    "# Calculate confusion matrix\n",
    "tn, fp, fn, tp = confusion_matrix(test_lab, y_pred).ravel()\n",
    "# Calculate rates\n",
    "tpr = tp / (tp + fn)  # True Positive Rate\n",
    "fpr = fp / (fp + tn)  # False Positive Rate\n",
    "tnr = tn / (tn + fp)  # True Negative Rate\n",
    "fnr = fn / (fn + tp)  # False Negative Rate\n",
    "# Print rates\n",
    "print(f\"True Positive Rate (TPR): {tpr:.3f}\")\n",
    "print(f\"True Negative Rate (TNR): {tnr:.3f}\")\n",
    "print(f\"False Positive Rate (FPR): {fpr:.3f}\")\n",
    "print(f\"False Negative Rate (FNR): {fnr:.3f}\")"
   ]
  },
  {
   "cell_type": "markdown",
   "metadata": {},
   "source": [
    "## Timing Experiments!"
   ]
  },
  {
   "cell_type": "code",
   "execution_count": null,
   "metadata": {},
   "outputs": [],
   "source": [
    "runs = 100"
   ]
  },
  {
   "cell_type": "code",
   "execution_count": null,
   "metadata": {},
   "outputs": [
    {
     "name": "stdout",
     "output_type": "stream",
     "text": [
      "Complete!\n"
     ]
    }
   ],
   "source": [
    "times_4_iceman = []\n",
    "\n",
    "for _ in tqdm(range(runs)):\n",
    "    time_output = %timeit -o -n 1 -r 1 -q y_pred = IDS(test_set, threshold=0.4997)\n",
    "    times_4_iceman.append(time_output.average)\n",
    "\n",
    "with open('/home/ubuntu/IDS/times/times_4_iceman.pkl', 'wb') as f:\n",
    "    pickle.dump(times_4_iceman, f)\n",
    "print(\"Complete!\")"
   ]
  },
  {
   "cell_type": "code",
   "execution_count": null,
   "metadata": {},
   "outputs": [
    {
     "name": "stdout",
     "output_type": "stream",
     "text": [
      "Complete!\n"
     ]
    }
   ],
   "source": [
    "times_4_groot = []\n",
    "\n",
    "for _ in tqdm(range(runs)):\n",
    "    time_output = %timeit -o -n 1 -r 1 -q y_pred = forest.predict(test_set)\n",
    "    times_4_groot.append(time_output.average)\n",
    "\n",
    "with open('/home/ubuntu/IDS/times/times_4_groot.pkl', 'wb') as f:\n",
    "    pickle.dump(times_4_groot, f)\n",
    "print(\"Complete!\")"
   ]
  },
  {
   "cell_type": "code",
   "execution_count": null,
   "metadata": {},
   "outputs": [
    {
     "name": "stdout",
     "output_type": "stream",
     "text": [
      "Complete!\n"
     ]
    }
   ],
   "source": [
    "times_4_ocscore = []\n",
    "\n",
    "for _ in tqdm(range(runs)):\n",
    "    time_output = %timeit -o -n 1 -r 1 -q y_pred = OC_predict(test_set, idref_train, threshold)\n",
    "    times_4_ocscore.append(time_output.average)\n",
    "\n",
    "with open('/home/ubuntu/IDS/times/times_4_ocscore.pkl', 'wb') as f:\n",
    "    pickle.dump(times_4_ocscore, f)\n",
    "print(\"Complete!\")"
   ]
  }
 ],
 "metadata": {
  "kernelspec": {
   "display_name": "Python 3",
   "language": "python",
   "name": "python3"
  },
  "language_info": {
   "codemirror_mode": {
    "name": "ipython",
    "version": 3
   },
   "file_extension": ".py",
   "mimetype": "text/x-python",
   "name": "python",
   "nbconvert_exporter": "python",
   "pygments_lexer": "ipython3",
   "version": "3.8.10"
  }
 },
 "nbformat": 4,
 "nbformat_minor": 2
}
