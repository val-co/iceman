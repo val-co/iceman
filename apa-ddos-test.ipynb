{
 "cells": [
  {
   "cell_type": "markdown",
   "metadata": {},
   "source": [
    "## The APA-DDoS Experiment!"
   ]
  },
  {
   "cell_type": "code",
   "execution_count": 1,
   "metadata": {},
   "outputs": [],
   "source": [
    "import os\n",
    "import vote\n",
    "import pickle\n",
    "import warnings\n",
    "import functools\n",
    "import numpy as np\n",
    "import portion as P\n",
    "import pandas as pd\n",
    "from tqdm import tqdm\n",
    "from collections import Counter\n",
    "warnings.filterwarnings(\"ignore\")\n",
    "np.set_printoptions(suppress=True)\n",
    "from xgboost import XGBClassifier\n",
    "from catboost import CatBoostClassifier\n",
    "from scipy.spatial.distance import cosine\n",
    "from sklearn.metrics import confusion_matrix\n",
    "from sklearn.preprocessing import MinMaxScaler\n",
    "from sklearn.ensemble import RandomForestClassifier\n",
    "from sklearn.model_selection import train_test_split\n",
    "from imblearn.over_sampling import RandomOverSampler\n",
    "from imblearn.under_sampling import RandomUnderSampler\n",
    "from sklearn.metrics import accuracy_score, recall_score, precision_score, f1_score"
   ]
  },
  {
   "cell_type": "code",
   "execution_count": 2,
   "metadata": {},
   "outputs": [],
   "source": [
    "repo_dir = \"APA-DDOS\"\n",
    "if not os.path.exists(repo_dir):\n",
    "    !git clone https://github.com/val-co/APA-DDOS.git\n",
    "    %cd APA-DDOS\n",
    "    !unzip APA-DDoS-Dataset.csv.zip\n",
    "    %cd ..\n",
    "\n",
    "DATASET_DIRECTORY = '/home/ubuntu/IDS/APA-DDOS/'"
   ]
  },
  {
   "cell_type": "code",
   "execution_count": 3,
   "metadata": {},
   "outputs": [],
   "source": [
    "dataset = pd.read_csv(DATASET_DIRECTORY + \"APA-DDoS-Dataset.csv\")"
   ]
  },
  {
   "cell_type": "code",
   "execution_count": 4,
   "metadata": {},
   "outputs": [
    {
     "data": {
      "text/plain": [
       "Label\n",
       "Benign          75600\n",
       "DDoS-PSH-ACK    37800\n",
       "DDoS-ACK        37800\n",
       "Name: count, dtype: int64"
      ]
     },
     "execution_count": 4,
     "metadata": {},
     "output_type": "execute_result"
    }
   ],
   "source": [
    "label_counts=dataset['Label'].value_counts()\n",
    "label_counts"
   ]
  },
  {
   "cell_type": "code",
   "execution_count": 5,
   "metadata": {},
   "outputs": [],
   "source": [
    "dataset['ip.dst'].value_counts() # This shows that there was only 1 destination IP, so we can drop this!\n",
    "dataset.drop('ip.dst',axis=1,inplace=True)"
   ]
  },
  {
   "cell_type": "code",
   "execution_count": 6,
   "metadata": {},
   "outputs": [],
   "source": [
    "constant_features = dataset.columns[dataset.nunique() == 1] # We drop constant columns\n",
    "dataset.drop(columns=constant_features,inplace=True)"
   ]
  },
  {
   "cell_type": "code",
   "execution_count": 7,
   "metadata": {},
   "outputs": [
    {
     "data": {
      "text/plain": [
       "frame.time\n",
       " 16-Jun 2020 20:18:15.071112000 Mountain Daylight Time    1\n",
       " 16-Jun 2020 22:05:19.560129000 Mountain Daylight Time    1\n",
       " 16-Jun 2020 22:05:19.559918000 Mountain Daylight Time    1\n",
       " 16-Jun 2020 22:05:19.559936000 Mountain Daylight Time    1\n",
       " 16-Jun 2020 22:05:19.559951000 Mountain Daylight Time    1\n",
       "                                                         ..\n",
       " 16-Jun 2020 20:21:44.728999000 Mountain Daylight Time    1\n",
       " 16-Jun 2020 20:21:44.741244000 Mountain Daylight Time    1\n",
       " 16-Jun 2020 20:21:44.759671000 Mountain Daylight Time    1\n",
       " 16-Jun 2020 20:21:44.771122000 Mountain Daylight Time    1\n",
       " 16-Jun 2020 22:10:46.984798000 Mountain Daylight Time    1\n",
       "Name: count, Length: 151200, dtype: int64"
      ]
     },
     "execution_count": 7,
     "metadata": {},
     "output_type": "execute_result"
    }
   ],
   "source": [
    "dataset['frame.time'].value_counts()"
   ]
  },
  {
   "cell_type": "code",
   "execution_count": 8,
   "metadata": {},
   "outputs": [],
   "source": [
    "import re\n",
    "\n",
    "dataset['frame.time'] = dataset['frame.time'].str.replace(' Mountain Daylight Time', '')\n",
    "dataset['frame.time']=dataset['frame.time'].apply(lambda x: re.sub(r'\\..*', '',x ))\n",
    "dataset['frame.time'] = pd.to_datetime(dataset['frame.time'], format=' %d-%b %Y %H:%M:%S')\n",
    "dataset['frame.time'] = dataset['frame.time'].dt.tz_localize('UTC').dt.tz_convert('US/Mountain')"
   ]
  },
  {
   "cell_type": "code",
   "execution_count": 9,
   "metadata": {},
   "outputs": [
    {
     "data": {
      "text/plain": [
       "Label\n",
       "1    75600\n",
       "0    75600\n",
       "Name: count, dtype: int64"
      ]
     },
     "execution_count": 9,
     "metadata": {},
     "output_type": "execute_result"
    }
   ],
   "source": [
    "dataset['Label'] = dataset['Label'].map({'Benign': 0, 'DDoS-PSH-ACK': 1, 'DDoS-ACK': 1})\n",
    "dataset['Label'].value_counts()\n"
   ]
  },
  {
   "cell_type": "code",
   "execution_count": 10,
   "metadata": {},
   "outputs": [],
   "source": [
    "from sklearn.preprocessing import LabelEncoder\n",
    "\n",
    "label_encoder = LabelEncoder()\n",
    "dataset['ip.src_encoded'] = label_encoder.fit_transform(dataset['ip.src'])"
   ]
  },
  {
   "cell_type": "code",
   "execution_count": 11,
   "metadata": {},
   "outputs": [
    {
     "data": {
      "text/html": [
       "<div>\n",
       "<style scoped>\n",
       "    .dataframe tbody tr th:only-of-type {\n",
       "        vertical-align: middle;\n",
       "    }\n",
       "\n",
       "    .dataframe tbody tr th {\n",
       "        vertical-align: top;\n",
       "    }\n",
       "\n",
       "    .dataframe thead th {\n",
       "        text-align: right;\n",
       "    }\n",
       "</style>\n",
       "<table border=\"1\" class=\"dataframe\">\n",
       "  <thead>\n",
       "    <tr style=\"text-align: right;\">\n",
       "      <th></th>\n",
       "      <th>tcp.srcport</th>\n",
       "      <th>frame.len</th>\n",
       "      <th>tcp.flags.push</th>\n",
       "      <th>ip.flags.df</th>\n",
       "      <th>frame.time</th>\n",
       "      <th>Packets</th>\n",
       "      <th>Bytes</th>\n",
       "      <th>Tx Packets</th>\n",
       "      <th>Tx Bytes</th>\n",
       "      <th>Rx Packets</th>\n",
       "      <th>Rx Bytes</th>\n",
       "      <th>ip.src_encoded</th>\n",
       "      <th>Label</th>\n",
       "    </tr>\n",
       "  </thead>\n",
       "  <tbody>\n",
       "    <tr>\n",
       "      <th>0</th>\n",
       "      <td>2412</td>\n",
       "      <td>54</td>\n",
       "      <td>1</td>\n",
       "      <td>0</td>\n",
       "      <td>2020-06-16 14:18:15-06:00</td>\n",
       "      <td>8</td>\n",
       "      <td>432</td>\n",
       "      <td>4</td>\n",
       "      <td>216</td>\n",
       "      <td>4</td>\n",
       "      <td>216</td>\n",
       "      <td>0</td>\n",
       "      <td>1</td>\n",
       "    </tr>\n",
       "    <tr>\n",
       "      <th>1</th>\n",
       "      <td>2413</td>\n",
       "      <td>54</td>\n",
       "      <td>1</td>\n",
       "      <td>0</td>\n",
       "      <td>2020-06-16 14:18:15-06:00</td>\n",
       "      <td>10</td>\n",
       "      <td>540</td>\n",
       "      <td>5</td>\n",
       "      <td>270</td>\n",
       "      <td>5</td>\n",
       "      <td>270</td>\n",
       "      <td>0</td>\n",
       "      <td>1</td>\n",
       "    </tr>\n",
       "    <tr>\n",
       "      <th>2</th>\n",
       "      <td>2414</td>\n",
       "      <td>54</td>\n",
       "      <td>1</td>\n",
       "      <td>0</td>\n",
       "      <td>2020-06-16 14:18:15-06:00</td>\n",
       "      <td>12</td>\n",
       "      <td>648</td>\n",
       "      <td>6</td>\n",
       "      <td>324</td>\n",
       "      <td>6</td>\n",
       "      <td>324</td>\n",
       "      <td>0</td>\n",
       "      <td>1</td>\n",
       "    </tr>\n",
       "    <tr>\n",
       "      <th>3</th>\n",
       "      <td>2415</td>\n",
       "      <td>54</td>\n",
       "      <td>1</td>\n",
       "      <td>0</td>\n",
       "      <td>2020-06-16 14:18:15-06:00</td>\n",
       "      <td>10</td>\n",
       "      <td>540</td>\n",
       "      <td>5</td>\n",
       "      <td>270</td>\n",
       "      <td>5</td>\n",
       "      <td>270</td>\n",
       "      <td>0</td>\n",
       "      <td>1</td>\n",
       "    </tr>\n",
       "    <tr>\n",
       "      <th>4</th>\n",
       "      <td>2416</td>\n",
       "      <td>54</td>\n",
       "      <td>1</td>\n",
       "      <td>0</td>\n",
       "      <td>2020-06-16 14:18:15-06:00</td>\n",
       "      <td>6</td>\n",
       "      <td>324</td>\n",
       "      <td>3</td>\n",
       "      <td>162</td>\n",
       "      <td>3</td>\n",
       "      <td>162</td>\n",
       "      <td>0</td>\n",
       "      <td>1</td>\n",
       "    </tr>\n",
       "  </tbody>\n",
       "</table>\n",
       "</div>"
      ],
      "text/plain": [
       "   tcp.srcport  frame.len  tcp.flags.push  ip.flags.df  \\\n",
       "0         2412         54               1            0   \n",
       "1         2413         54               1            0   \n",
       "2         2414         54               1            0   \n",
       "3         2415         54               1            0   \n",
       "4         2416         54               1            0   \n",
       "\n",
       "                 frame.time  Packets  Bytes  Tx Packets  Tx Bytes  Rx Packets  \\\n",
       "0 2020-06-16 14:18:15-06:00        8    432           4       216           4   \n",
       "1 2020-06-16 14:18:15-06:00       10    540           5       270           5   \n",
       "2 2020-06-16 14:18:15-06:00       12    648           6       324           6   \n",
       "3 2020-06-16 14:18:15-06:00       10    540           5       270           5   \n",
       "4 2020-06-16 14:18:15-06:00        6    324           3       162           3   \n",
       "\n",
       "   Rx Bytes  ip.src_encoded  Label  \n",
       "0       216               0      1  \n",
       "1       270               0      1  \n",
       "2       324               0      1  \n",
       "3       270               0      1  \n",
       "4       162               0      1  "
      ]
     },
     "execution_count": 11,
     "metadata": {},
     "output_type": "execute_result"
    }
   ],
   "source": [
    "dataset.drop('ip.src', axis=1, inplace=True)\n",
    "\n",
    "cols = dataset.columns.tolist()\n",
    "new_position = cols.index('ip.src_encoded')\n",
    "cols.insert(cols.index('Label'), cols.pop(new_position)) \n",
    "\n",
    "dataset = dataset[cols]\n",
    "dataset.head()"
   ]
  },
  {
   "cell_type": "code",
   "execution_count": 12,
   "metadata": {},
   "outputs": [
    {
     "data": {
      "text/html": [
       "<div>\n",
       "<style scoped>\n",
       "    .dataframe tbody tr th:only-of-type {\n",
       "        vertical-align: middle;\n",
       "    }\n",
       "\n",
       "    .dataframe tbody tr th {\n",
       "        vertical-align: top;\n",
       "    }\n",
       "\n",
       "    .dataframe thead th {\n",
       "        text-align: right;\n",
       "    }\n",
       "</style>\n",
       "<table border=\"1\" class=\"dataframe\">\n",
       "  <thead>\n",
       "    <tr style=\"text-align: right;\">\n",
       "      <th></th>\n",
       "      <th>tcp.srcport</th>\n",
       "      <th>frame.len</th>\n",
       "      <th>tcp.flags.push</th>\n",
       "      <th>ip.flags.df</th>\n",
       "      <th>frame.time</th>\n",
       "      <th>Packets</th>\n",
       "      <th>Bytes</th>\n",
       "      <th>Tx Packets</th>\n",
       "      <th>Tx Bytes</th>\n",
       "      <th>Rx Packets</th>\n",
       "      <th>Rx Bytes</th>\n",
       "      <th>ip.src_encoded</th>\n",
       "      <th>Label</th>\n",
       "    </tr>\n",
       "  </thead>\n",
       "  <tbody>\n",
       "    <tr>\n",
       "      <th>0</th>\n",
       "      <td>2412</td>\n",
       "      <td>54</td>\n",
       "      <td>1</td>\n",
       "      <td>0</td>\n",
       "      <td>1.592339e+09</td>\n",
       "      <td>8</td>\n",
       "      <td>432</td>\n",
       "      <td>4</td>\n",
       "      <td>216</td>\n",
       "      <td>4</td>\n",
       "      <td>216</td>\n",
       "      <td>0</td>\n",
       "      <td>1</td>\n",
       "    </tr>\n",
       "    <tr>\n",
       "      <th>1</th>\n",
       "      <td>2413</td>\n",
       "      <td>54</td>\n",
       "      <td>1</td>\n",
       "      <td>0</td>\n",
       "      <td>1.592339e+09</td>\n",
       "      <td>10</td>\n",
       "      <td>540</td>\n",
       "      <td>5</td>\n",
       "      <td>270</td>\n",
       "      <td>5</td>\n",
       "      <td>270</td>\n",
       "      <td>0</td>\n",
       "      <td>1</td>\n",
       "    </tr>\n",
       "    <tr>\n",
       "      <th>2</th>\n",
       "      <td>2414</td>\n",
       "      <td>54</td>\n",
       "      <td>1</td>\n",
       "      <td>0</td>\n",
       "      <td>1.592339e+09</td>\n",
       "      <td>12</td>\n",
       "      <td>648</td>\n",
       "      <td>6</td>\n",
       "      <td>324</td>\n",
       "      <td>6</td>\n",
       "      <td>324</td>\n",
       "      <td>0</td>\n",
       "      <td>1</td>\n",
       "    </tr>\n",
       "    <tr>\n",
       "      <th>3</th>\n",
       "      <td>2415</td>\n",
       "      <td>54</td>\n",
       "      <td>1</td>\n",
       "      <td>0</td>\n",
       "      <td>1.592339e+09</td>\n",
       "      <td>10</td>\n",
       "      <td>540</td>\n",
       "      <td>5</td>\n",
       "      <td>270</td>\n",
       "      <td>5</td>\n",
       "      <td>270</td>\n",
       "      <td>0</td>\n",
       "      <td>1</td>\n",
       "    </tr>\n",
       "    <tr>\n",
       "      <th>4</th>\n",
       "      <td>2416</td>\n",
       "      <td>54</td>\n",
       "      <td>1</td>\n",
       "      <td>0</td>\n",
       "      <td>1.592339e+09</td>\n",
       "      <td>6</td>\n",
       "      <td>324</td>\n",
       "      <td>3</td>\n",
       "      <td>162</td>\n",
       "      <td>3</td>\n",
       "      <td>162</td>\n",
       "      <td>0</td>\n",
       "      <td>1</td>\n",
       "    </tr>\n",
       "  </tbody>\n",
       "</table>\n",
       "</div>"
      ],
      "text/plain": [
       "   tcp.srcport  frame.len  tcp.flags.push  ip.flags.df    frame.time  Packets  \\\n",
       "0         2412         54               1            0  1.592339e+09        8   \n",
       "1         2413         54               1            0  1.592339e+09       10   \n",
       "2         2414         54               1            0  1.592339e+09       12   \n",
       "3         2415         54               1            0  1.592339e+09       10   \n",
       "4         2416         54               1            0  1.592339e+09        6   \n",
       "\n",
       "   Bytes  Tx Packets  Tx Bytes  Rx Packets  Rx Bytes  ip.src_encoded  Label  \n",
       "0    432           4       216           4       216               0      1  \n",
       "1    540           5       270           5       270               0      1  \n",
       "2    648           6       324           6       324               0      1  \n",
       "3    540           5       270           5       270               0      1  \n",
       "4    324           3       162           3       162               0      1  "
      ]
     },
     "execution_count": 12,
     "metadata": {},
     "output_type": "execute_result"
    }
   ],
   "source": [
    "dataset['frame.time'] = pd.to_datetime(dataset['frame.time'])\n",
    "dataset['frame.time'] = dataset['frame.time'].apply(lambda x: x.timestamp())\n",
    "dataset.head()"
   ]
  },
  {
   "cell_type": "code",
   "execution_count": 13,
   "metadata": {},
   "outputs": [],
   "source": [
    "X = dataset.iloc[:, :-1]\n",
    "y = dataset.iloc[:, -1]"
   ]
  },
  {
   "cell_type": "code",
   "execution_count": 14,
   "metadata": {},
   "outputs": [],
   "source": [
    "scaler = MinMaxScaler()\n",
    "X_ = scaler.fit_transform(X)\n",
    "X_ = pd.DataFrame(X_, columns=X.columns)"
   ]
  },
  {
   "cell_type": "code",
   "execution_count": 15,
   "metadata": {},
   "outputs": [
    {
     "data": {
      "text/html": [
       "<div>\n",
       "<style scoped>\n",
       "    .dataframe tbody tr th:only-of-type {\n",
       "        vertical-align: middle;\n",
       "    }\n",
       "\n",
       "    .dataframe tbody tr th {\n",
       "        vertical-align: top;\n",
       "    }\n",
       "\n",
       "    .dataframe thead th {\n",
       "        text-align: right;\n",
       "    }\n",
       "</style>\n",
       "<table border=\"1\" class=\"dataframe\">\n",
       "  <thead>\n",
       "    <tr style=\"text-align: right;\">\n",
       "      <th></th>\n",
       "      <th>tcp.srcport</th>\n",
       "      <th>frame.len</th>\n",
       "      <th>tcp.flags.push</th>\n",
       "      <th>ip.flags.df</th>\n",
       "      <th>frame.time</th>\n",
       "      <th>Packets</th>\n",
       "      <th>Bytes</th>\n",
       "      <th>Tx Packets</th>\n",
       "      <th>Tx Bytes</th>\n",
       "      <th>Rx Packets</th>\n",
       "      <th>Rx Bytes</th>\n",
       "      <th>ip.src_encoded</th>\n",
       "    </tr>\n",
       "  </thead>\n",
       "  <tbody>\n",
       "    <tr>\n",
       "      <th>0</th>\n",
       "      <td>0.018594</td>\n",
       "      <td>0.0</td>\n",
       "      <td>1.0</td>\n",
       "      <td>0.0</td>\n",
       "      <td>0.0</td>\n",
       "      <td>0.368421</td>\n",
       "      <td>0.321702</td>\n",
       "      <td>0.333333</td>\n",
       "      <td>0.319527</td>\n",
       "      <td>0.4</td>\n",
       "      <td>0.323353</td>\n",
       "      <td>0.0</td>\n",
       "    </tr>\n",
       "    <tr>\n",
       "      <th>1</th>\n",
       "      <td>0.018611</td>\n",
       "      <td>0.0</td>\n",
       "      <td>1.0</td>\n",
       "      <td>0.0</td>\n",
       "      <td>0.0</td>\n",
       "      <td>0.473684</td>\n",
       "      <td>0.413617</td>\n",
       "      <td>0.444444</td>\n",
       "      <td>0.426036</td>\n",
       "      <td>0.5</td>\n",
       "      <td>0.404192</td>\n",
       "      <td>0.0</td>\n",
       "    </tr>\n",
       "    <tr>\n",
       "      <th>2</th>\n",
       "      <td>0.018628</td>\n",
       "      <td>0.0</td>\n",
       "      <td>1.0</td>\n",
       "      <td>0.0</td>\n",
       "      <td>0.0</td>\n",
       "      <td>0.578947</td>\n",
       "      <td>0.505532</td>\n",
       "      <td>0.555556</td>\n",
       "      <td>0.532544</td>\n",
       "      <td>0.6</td>\n",
       "      <td>0.485030</td>\n",
       "      <td>0.0</td>\n",
       "    </tr>\n",
       "    <tr>\n",
       "      <th>3</th>\n",
       "      <td>0.018644</td>\n",
       "      <td>0.0</td>\n",
       "      <td>1.0</td>\n",
       "      <td>0.0</td>\n",
       "      <td>0.0</td>\n",
       "      <td>0.473684</td>\n",
       "      <td>0.413617</td>\n",
       "      <td>0.444444</td>\n",
       "      <td>0.426036</td>\n",
       "      <td>0.5</td>\n",
       "      <td>0.404192</td>\n",
       "      <td>0.0</td>\n",
       "    </tr>\n",
       "    <tr>\n",
       "      <th>4</th>\n",
       "      <td>0.018661</td>\n",
       "      <td>0.0</td>\n",
       "      <td>1.0</td>\n",
       "      <td>0.0</td>\n",
       "      <td>0.0</td>\n",
       "      <td>0.263158</td>\n",
       "      <td>0.229787</td>\n",
       "      <td>0.222222</td>\n",
       "      <td>0.213018</td>\n",
       "      <td>0.3</td>\n",
       "      <td>0.242515</td>\n",
       "      <td>0.0</td>\n",
       "    </tr>\n",
       "  </tbody>\n",
       "</table>\n",
       "</div>"
      ],
      "text/plain": [
       "   tcp.srcport  frame.len  tcp.flags.push  ip.flags.df  frame.time   Packets  \\\n",
       "0     0.018594        0.0             1.0          0.0         0.0  0.368421   \n",
       "1     0.018611        0.0             1.0          0.0         0.0  0.473684   \n",
       "2     0.018628        0.0             1.0          0.0         0.0  0.578947   \n",
       "3     0.018644        0.0             1.0          0.0         0.0  0.473684   \n",
       "4     0.018661        0.0             1.0          0.0         0.0  0.263158   \n",
       "\n",
       "      Bytes  Tx Packets  Tx Bytes  Rx Packets  Rx Bytes  ip.src_encoded  \n",
       "0  0.321702    0.333333  0.319527         0.4  0.323353             0.0  \n",
       "1  0.413617    0.444444  0.426036         0.5  0.404192             0.0  \n",
       "2  0.505532    0.555556  0.532544         0.6  0.485030             0.0  \n",
       "3  0.413617    0.444444  0.426036         0.5  0.404192             0.0  \n",
       "4  0.229787    0.222222  0.213018         0.3  0.242515             0.0  "
      ]
     },
     "execution_count": 15,
     "metadata": {},
     "output_type": "execute_result"
    }
   ],
   "source": [
    "X_.head()"
   ]
  },
  {
   "cell_type": "code",
   "execution_count": 16,
   "metadata": {},
   "outputs": [
    {
     "name": "stdout",
     "output_type": "stream",
     "text": [
      "Train set shape: (90720, 12)\n",
      "Validation set shape: (45360, 12)\n",
      "Test set shape: (15120, 12)\n"
     ]
    }
   ],
   "source": [
    "# Split the data into training (60%), validation (30%), and test (10%) sets\n",
    "X_train, X_temp, y_train, y_temp = train_test_split(X_, y, test_size=0.4, stratify=y, random_state=42)\n",
    "X_valid, X_test, y_valid, y_test = train_test_split(X_temp, y_temp, test_size=0.25, stratify=y_temp, random_state=42)\n",
    "\n",
    "# Display the shapes of the resulting sets\n",
    "print(\"Train set shape:\", X_train.shape)\n",
    "print(\"Validation set shape:\", X_valid.shape)\n",
    "print(\"Test set shape:\", X_test.shape)"
   ]
  },
  {
   "cell_type": "code",
   "execution_count": 17,
   "metadata": {},
   "outputs": [
    {
     "name": "stdout",
     "output_type": "stream",
     "text": [
      "Models Training\n",
      "Models Trained\n"
     ]
    }
   ],
   "source": [
    "model1 = XGBClassifier(n_estimators=50, n_jobs=8, max_depth=5, random_state=42)\n",
    "print(\"Models Training\")\n",
    "model1.fit(X_train, y_train)\n",
    "print(\"Models Trained\")"
   ]
  },
  {
   "cell_type": "code",
   "execution_count": 18,
   "metadata": {},
   "outputs": [
    {
     "name": "stdout",
     "output_type": "stream",
     "text": [
      "\n",
      "Model Metrics\n",
      "accuracy_score: 1.000\n",
      "recall_score: 1.000\n",
      "precision_score: 1.000\n",
      "f1_score: 1.000\n",
      "\n",
      "Confusion Matrix\n",
      "True Positive Rate (Sensitivity): 1.000\n",
      "True Negative Rate (Specificity): 1.000\n",
      "False Positive Rate (Type I Error): 0.000\n",
      "False Negative Rate (Type II Error): 0.000 \n",
      "\n",
      "Matthews Corelation Coefficient: 1.000\n",
      "AUC: 1.0\n"
     ]
    }
   ],
   "source": [
    "from sklearn.metrics import accuracy_score, recall_score, precision_score, f1_score, confusion_matrix, roc_auc_score, matthews_corrcoef\n",
    "\n",
    "y_pred = model1.predict(X_test)\n",
    "    \n",
    "print(\"\\nModel Metrics\")\n",
    "print('accuracy_score: {:.3f}'.format(accuracy_score(y_pred, y_test)))\n",
    "print('recall_score: {:.3f}'.format(recall_score(y_pred, y_test)))\n",
    "print('precision_score: {:.3f}'.format(precision_score(y_pred, y_test)))\n",
    "print('f1_score: {:.3f}'.format(f1_score(y_pred, y_test)))\n",
    "\n",
    "# Calculate the confusion matrix\n",
    "confusion_matrix_result = confusion_matrix(y_test, y_pred)\n",
    "\n",
    "# Extract values from the confusion matrix\n",
    "TP = confusion_matrix_result[1, 1]  \n",
    "FP = confusion_matrix_result[0, 1]  \n",
    "FN = confusion_matrix_result[1, 0]  \n",
    "TN = confusion_matrix_result[0, 0] \n",
    "\n",
    "# Print the rates\n",
    "print(\"\\nConfusion Matrix\")\n",
    "print(\"True Positive Rate (Sensitivity): {:.3f}\".format(TP / (TP + FN))) \n",
    "print(\"True Negative Rate (Specificity): {:.3f}\".format(TN / (FP + TN))) \n",
    "print(\"False Positive Rate (Type I Error): {:.3f}\".format(FP / (FP + TN))) \n",
    "print(\"False Negative Rate (Type II Error): {:.3f}\".format(FN / (TP + FN)), \"\\n\") \n",
    "print(\"Matthews Corelation Coefficient: {:.3f}\".format(matthews_corrcoef(y_pred, y_test)))\n",
    "print(\"AUC:\", roc_auc_score(y_pred, y_test))"
   ]
  },
  {
   "cell_type": "code",
   "execution_count": null,
   "metadata": {},
   "outputs": [
    {
     "name": "stdout",
     "output_type": "stream",
     "text": [
      "Verifying IDS\n"
     ]
    },
    {
     "name": "stderr",
     "output_type": "stream",
     "text": [
      "100%|██████████| 15120/15120 [00:11<00:00, 1339.84it/s]"
     ]
    },
    {
     "name": "stdout",
     "output_type": "stream",
     "text": [
      "IDS Robustness: 0.750\n"
     ]
    },
    {
     "name": "stderr",
     "output_type": "stream",
     "text": [
      "\n"
     ]
    }
   ],
   "source": [
    "print(\"Verifying IDS\")\n",
    "\n",
    "X_test_nr = []\n",
    "y_test_nr = []\n",
    "\n",
    "def label_checker(expected, mapping):\n",
    "    return vote.mapping_check_argmax(mapping, expected)\n",
    "\n",
    "e = vote.Ensemble.from_xgboost(model1)\n",
    "delta = 0.0001 # 0.01% perturbations, very stealthy\n",
    "passe = 0\n",
    "\n",
    "for i in tqdm(range(len(X_test))):\n",
    "    xvec = X_test.iloc[i].values\n",
    "    label = y_test.iloc[i]\n",
    "    if model1.predict([np.asarray(xvec)]) != label: # Don't bother with samples that were misclassified\n",
    "        continue\n",
    "    domain = [(max(0.0, x-delta), min(1.0, x+delta)) for x in xvec]\n",
    "    checker = functools.partial(label_checker, label)\n",
    "    passed = e.absref(checker, domain)\n",
    "    if not passed:\n",
    "        X_test_nr.append(xvec)\n",
    "        y_test_nr.append(label)\n",
    "    else:\n",
    "        passe += 1 \n",
    "        \n",
    "print('IDS Robustness: {:.3f}'.format(passe/len(X_test)))"
   ]
  },
  {
   "cell_type": "code",
   "execution_count": null,
   "metadata": {},
   "outputs": [
    {
     "name": "stdout",
     "output_type": "stream",
     "text": [
      "(136080, 12) (136080,)\n"
     ]
    }
   ],
   "source": [
    "#%%script echo skipping\n",
    "\n",
    "X_verif = np.concatenate((X_valid, X_train))\n",
    "y_verif = np.concatenate((y_valid, y_train))\n",
    "\n",
    "print(X_verif.shape, y_verif.shape)"
   ]
  },
  {
   "cell_type": "code",
   "execution_count": null,
   "metadata": {},
   "outputs": [
    {
     "name": "stdout",
     "output_type": "stream",
     "text": [
      "skipping\n"
     ]
    }
   ],
   "source": [
    "%%script echo skipping\n",
    "\n",
    "import portion as P\n",
    "\n",
    "combined_intervals_1 = [P.empty() for _ in range(e.nb_inputs)] # Attack Regions\n",
    "combined_intervals_0 = [P.empty() for _ in range(e.nb_inputs)] # Benign Regions\n",
    "\n",
    "e = vote.Ensemble.from_xgboost(model1)\n",
    "delta = 0.00015 # 0.015% perturbations, very stealthy\n",
    "\n",
    "for i in tqdm(range(len(X_verif))):\n",
    "    xvec = X_verif[i]\n",
    "    label = y_verif[i]\n",
    "\n",
    "    def check_robustness_1(m):\n",
    "        o = vote.mapping_check_argmax(m, label)\n",
    "        if o == vote.FAIL:\n",
    "          for dim in range(e.nb_inputs):\n",
    "            combined_intervals_1[dim] = combined_intervals_1[dim] | P.closed(m.inputs[dim].lower, m.inputs[dim].upper)\n",
    "          return vote.PASS # Because we want to keep checking the input space despite finding a violation\n",
    "        return o\n",
    "\n",
    "    def check_robustness_0(m):\n",
    "        o = vote.mapping_check_argmax(m, label)\n",
    "        if o == vote.FAIL:\n",
    "          for dim in range(e.nb_inputs):\n",
    "            combined_intervals_0[dim] = combined_intervals_0[dim] | P.closed(m.inputs[dim].lower, m.inputs[dim].upper)\n",
    "          return vote.PASS # Because we want to keep checking the input space despite finding a violation\n",
    "        return o\n",
    "\n",
    "    if model1.predict([np.asarray(xvec)]) != label: # Don't bother with samples that were misclassified\n",
    "      continue\n",
    "\n",
    "    if model1.predict([np.asarray(xvec)]) == 1: # If this sample was an attack, how can we make the model robust\n",
    "      input_region = [(max(x - delta, 0.0), min(1.0, x + delta)) for x in xvec]\n",
    "      e.absref(check_robustness_1, input_region)\n",
    "\n",
    "    if model1.predict([np.asarray(xvec)]) == 0: # If this sample was benign, how can we make the model robust\n",
    "      input_region = [(max(x - delta, 0.0), min(1.0, x + delta)) for x in xvec]\n",
    "      e.absref(check_robustness_0, input_region)\n",
    "\n",
    "print(\"Attack & Benign Robustifying Regions Generated\")"
   ]
  },
  {
   "cell_type": "code",
   "execution_count": null,
   "metadata": {},
   "outputs": [
    {
     "name": "stdout",
     "output_type": "stream",
     "text": [
      "skipping\n"
     ]
    }
   ],
   "source": [
    "%%script echo skipping\n",
    "\n",
    "with open('combined_intervals_1_apa.pkl', 'wb') as f1:\n",
    "    pickle.dump(combined_intervals_1,f1) \n",
    "    \n",
    "with open('combined_intervals_0_apa.pkl', 'wb') as f2:\n",
    "    pickle.dump(combined_intervals_0,f2) "
   ]
  },
  {
   "cell_type": "code",
   "execution_count": null,
   "metadata": {},
   "outputs": [],
   "source": [
    "import pickle\n",
    "\n",
    "with open('combined_intervals_1_apa.pkl', 'rb') as f1:\n",
    "    combined_intervals_1 = pickle.load(f1)\n",
    "\n",
    "with open('combined_intervals_0_apa.pkl', 'rb') as f2:\n",
    "    combined_intervals_0 = pickle.load(f2)"
   ]
  },
  {
   "cell_type": "code",
   "execution_count": null,
   "metadata": {},
   "outputs": [
    {
     "name": "stderr",
     "output_type": "stream",
     "text": [
      "  0%|          | 0/3776 [00:00<?, ?it/s]"
     ]
    },
    {
     "name": "stderr",
     "output_type": "stream",
     "text": [
      "100%|██████████| 3776/3776 [00:04<00:00, 834.74it/s]"
     ]
    },
    {
     "name": "stdout",
     "output_type": "stream",
     "text": [
      "Adversarial Examples:  Counter({0: 7552})\n"
     ]
    },
    {
     "name": "stderr",
     "output_type": "stream",
     "text": [
      "\n"
     ]
    }
   ],
   "source": [
    "from collections import Counter\n",
    "\n",
    "adversarial_examples = []\n",
    "true_labels = []\n",
    "delta = 0.0001\n",
    "multiplier = 2\n",
    "\n",
    "e = vote.Ensemble.from_xgboost(model1)\n",
    "\n",
    "for i in tqdm(range(len(y_test_nr))): \n",
    "    xvec = X_test_nr[i]\n",
    "    label = y_test_nr[i] \n",
    "    \n",
    "    def check_robustness(m):\n",
    "        o = vote.mapping_check_argmax(m, label)\n",
    "        if o == vote.FAIL:\n",
    "            if label==0:\n",
    "                for i in range(multiplier):\n",
    "                    np.random.seed(42+i)\n",
    "                    center = [np.random.uniform(low=m.inputs[dim].lower, high=m.inputs[dim].upper) for dim in range(m.nb_inputs)]\n",
    "                    assert(model1.predict([center]) != label)\n",
    "                    adversarial_examples.append(center)\n",
    "                    true_labels.append(label)\n",
    "            if label==1:\n",
    "                np.random.seed(42)\n",
    "                center = [np.random.uniform(low=m.inputs[dim].lower, high=m.inputs[dim].upper) for dim in range(m.nb_inputs)]\n",
    "                assert(model1.predict([center]) != label)\n",
    "                adversarial_examples.append(center)\n",
    "                true_labels.append(label)\n",
    "        return o\n",
    "        \n",
    "    \n",
    "    input_region = [(max(x - delta, 0.0), min(1.0, x + delta)) for x in xvec]     \n",
    "    e.absref(check_robustness, input_region)\n",
    "    \n",
    "print(\"Adversarial Examples: \", Counter(true_labels))"
   ]
  },
  {
   "cell_type": "code",
   "execution_count": null,
   "metadata": {},
   "outputs": [
    {
     "name": "stdout",
     "output_type": "stream",
     "text": [
      "Evaluation Samples: 15104\n"
     ]
    }
   ],
   "source": [
    "from imblearn.under_sampling import RandomUnderSampler\n",
    "\n",
    "size = len(adversarial_examples)\n",
    "\n",
    "# Initialize the undersampler with the desired sampling strategy\n",
    "rus = RandomUnderSampler(sampling_strategy={0: int(size/2), 1: int(size/2)}, random_state=42)\n",
    "X_sampled, y_sampled = rus.fit_resample(X_test, y_test)\n",
    "\n",
    "test_set = np.concatenate((X_sampled, adversarial_examples))\n",
    "test_lab_sym = np.concatenate((np.zeros(len(y_sampled), dtype=bool), np.ones(len(true_labels), dtype=bool)))\n",
    "\n",
    "test_lab = np.concatenate((y_sampled, true_labels))\n",
    "\n",
    "print(\"Evaluation Samples:\", len(test_set))"
   ]
  },
  {
   "cell_type": "code",
   "execution_count": null,
   "metadata": {},
   "outputs": [],
   "source": [
    "from sklearn.inspection import permutation_importance\n",
    "\n",
    "perm_set = np.concatenate((X_train, X_valid))\n",
    "perm_lab = np.concatenate((y_train, y_valid))\n",
    "\n",
    "perm_importance = permutation_importance(model1, perm_set, perm_lab, random_state=12345, n_repeats=5, n_jobs=-1)\n",
    "wv = perm_importance['importances_mean']"
   ]
  },
  {
   "cell_type": "code",
   "execution_count": null,
   "metadata": {},
   "outputs": [],
   "source": [
    "def distance(samples):\n",
    "    distances = []\n",
    "    preds = model1.predict(np.asarray(samples))\n",
    "    for sample, pred in zip(np.asarray(samples), preds):\n",
    "        if pred == 1:\n",
    "            distances.append(np.sum(wv * [sample[i] in combined_intervals_0[i] for i in range(e.nb_inputs)]))\n",
    "        else:\n",
    "            distances.append(np.sum(wv * [sample[i] in combined_intervals_1[i] for i in range(e.nb_inputs)]))\n",
    "    return distances"
   ]
  },
  {
   "cell_type": "code",
   "execution_count": null,
   "metadata": {},
   "outputs": [],
   "source": [
    "distances_X_test  = distance(X_sampled)\n",
    "distances_adversarial_examples = distance(adversarial_examples)"
   ]
  },
  {
   "cell_type": "code",
   "execution_count": null,
   "metadata": {},
   "outputs": [
    {
     "data": {
      "image/png": "[encoded data removed]",
      "text/plain": [
       "<Figure size 640x480 with 1 Axes>"
      ]
     },
     "metadata": {},
     "output_type": "display_data"
    },
    {
     "name": "stdout",
     "output_type": "stream",
     "text": [
      "0.49980011757789533\n"
     ]
    }
   ],
   "source": [
    "import matplotlib.pyplot as plt\n",
    "from sklearn.metrics import roc_curve, auc, RocCurveDisplay, confusion_matrix\n",
    "\n",
    "S = np.concatenate((distances_X_test, distances_adversarial_examples))\n",
    "\n",
    "fpr, tpr, thresholds = roc_curve(test_lab_sym, S)\n",
    "roc_auc = auc(fpr, tpr)\n",
    "display = RocCurveDisplay(fpr=fpr, tpr=tpr, roc_auc=roc_auc, estimator_name='Iceman')\n",
    "display.plot()\n",
    "plt.show()\n",
    "\n",
    "optimal_idx = np.argmax(tpr - fpr)\n",
    "threshold = thresholds[optimal_idx]\n",
    "print(threshold)"
   ]
  },
  {
   "cell_type": "markdown",
   "metadata": {},
   "source": [
    "## Then we evaluate using Iceman! "
   ]
  },
  {
   "cell_type": "code",
   "execution_count": null,
   "metadata": {},
   "outputs": [],
   "source": [
    "def IDS(x, threshold):\n",
    "    S = distance(x)\n",
    "    predictions, preds = [], model1.predict(np.asarray(x))\n",
    "    for score, pred in zip(S, preds):\n",
    "        if score <= threshold:\n",
    "            predictions.append(pred)\n",
    "        else:\n",
    "            predictions.append(abs(1-pred))\n",
    "    return predictions"
   ]
  },
  {
   "cell_type": "code",
   "execution_count": null,
   "metadata": {},
   "outputs": [],
   "source": [
    "y_pred = IDS(test_set, threshold=0.4997)"
   ]
  },
  {
   "cell_type": "code",
   "execution_count": null,
   "metadata": {},
   "outputs": [
    {
     "name": "stdout",
     "output_type": "stream",
     "text": [
      "Acc:  1.0 \n",
      "F1-Score:  1.0 \n",
      "MCC:  1.0\n",
      "Rec:  1.0 \n",
      "Prec:  1.0 \n",
      "AUC:  1.0\n",
      "Equal Error Rate:  0.0\n",
      "True Positive Rate (TPR): 1.000\n",
      "True Negative Rate (TNR): 1.000\n",
      "False Positive Rate (FPR): 0.000\n",
      "False Negative Rate (FNR): 0.000\n"
     ]
    }
   ],
   "source": [
    "fpr, tpr, thresholds = roc_curve(test_lab_sym, S)\n",
    "roc_auc = auc(fpr, tpr)\n",
    "print(\"Acc: \", round(accuracy_score(y_pred, test_lab), 3), \"\\nF1-Score: \", round(f1_score(y_pred, test_lab), 3), \"\\nMCC: \", round(matthews_corrcoef(y_pred, test_lab),3))\n",
    "print(\"Rec: \", round(recall_score(y_pred, test_lab), 3), \"\\nPrec: \", round(precision_score(y_pred, test_lab), 3), \"\\nAUC: \", round(roc_auc, 3))\n",
    "fpr, tpr, thresholds = roc_curve(test_lab_sym, S)\n",
    "fnr = 1 - tpr\n",
    "eer = fpr[np.nanargmin(np.absolute((fnr - fpr)))]\n",
    "print(\"Equal Error Rate: \", round(eer,3))\n",
    "# Calculate confusion matrix\n",
    "tn, fp, fn, tp = confusion_matrix(test_lab, y_pred).ravel()\n",
    "# Calculate rates\n",
    "tpr = tp / (tp + fn)  # True Positive Rate\n",
    "fpr = fp / (fp + tn)  # False Positive Rate\n",
    "tnr = tn / (tn + fp)  # True Negative Rate\n",
    "fnr = fn / (fn + tp)  # False Negative Rate\n",
    "# Print rates\n",
    "print(f\"True Positive Rate (TPR): {tpr:.3f}\")\n",
    "print(f\"True Negative Rate (TNR): {tnr:.3f}\")\n",
    "print(f\"False Positive Rate (FPR): {fpr:.3f}\")\n",
    "print(f\"False Negative Rate (FNR): {fnr:.3f}\")"
   ]
  },
  {
   "cell_type": "markdown",
   "metadata": {},
   "source": [
    "## Alert Management Stuff!"
   ]
  },
  {
   "cell_type": "code",
   "execution_count": null,
   "metadata": {},
   "outputs": [
    {
     "name": "stdout",
     "output_type": "stream",
     "text": [
      "Number of False Negatives: 0\n"
     ]
    }
   ],
   "source": [
    "true_positives = X_sampled[y_sampled == 1] # True Attack. Investigate!\n",
    "true_negatives = X_sampled[y_sampled == 0] # True Benign. Do Nothing!\n",
    "false_positives = [example for example, label in zip(adversarial_examples, true_labels) if label == 0] # Evasion (true_label = benign, pred = attack). Caution!\n",
    "false_negatives = [example for example, label in zip(adversarial_examples, true_labels) if label == 1] # Evasion (true_label = attack, pred = benign). Investigate!\n",
    "\n",
    "print(\"Number of False Negatives:\", len(false_negatives))\n",
    "\n",
    "exp_newset = np.concatenate((true_positives, true_negatives, false_positives))\n",
    "exp_newlab = np.concatenate((np.full(len(true_positives), 1), np.full(len(true_negatives), 0), np.full(len(false_positives), 3)))"
   ]
  },
  {
   "cell_type": "code",
   "execution_count": null,
   "metadata": {},
   "outputs": [],
   "source": [
    "def IDS_alert(x, threshold, filter = False):\n",
    "    S = distance(x)\n",
    "    predictions, preds = [], model1.predict(np.asarray(x))\n",
    "    for score, pred in zip(S, preds):\n",
    "        if score <= threshold:\n",
    "            if pred == 1:\n",
    "                predictions.append('tp' if filter else 1) # TP\n",
    "            else:\n",
    "                predictions.append('tn' if filter else 0) # TN\n",
    "        else:\n",
    "            if pred == 1:\n",
    "                predictions.append('fp' if filter else 3) # FP\n",
    "            else:\n",
    "                predictions.append('fn' if filter else 2) # FN\n",
    "    return predictions"
   ]
  },
  {
   "cell_type": "code",
   "execution_count": null,
   "metadata": {},
   "outputs": [
    {
     "name": "stdout",
     "output_type": "stream",
     "text": [
      "              precision    recall  f1-score   support\n",
      "\n",
      "           0       1.00      1.00      1.00      3776\n",
      "           1       1.00      1.00      1.00      3776\n",
      "           3       1.00      1.00      1.00      7552\n",
      "\n",
      "    accuracy                           1.00     15104\n",
      "   macro avg       1.00      1.00      1.00     15104\n",
      "weighted avg       1.00      1.00      1.00     15104\n",
      "\n"
     ]
    }
   ],
   "source": [
    "from sklearn.metrics import classification_report\n",
    "\n",
    "y_pred = IDS_alert(exp_newset, threshold=0.4997)\n",
    "\n",
    "# Print classification report\n",
    "print(classification_report(exp_newlab, y_pred))"
   ]
  },
  {
   "cell_type": "code",
   "execution_count": null,
   "metadata": {},
   "outputs": [
    {
     "name": "stdout",
     "output_type": "stream",
     "text": [
      "              precision    recall  f1-score   support\n",
      "\n",
      "          fp       1.00      1.00      1.00      7552\n",
      "          tn       1.00      1.00      1.00      3776\n",
      "          tp       1.00      1.00      1.00      3776\n",
      "\n",
      "    accuracy                           1.00     15104\n",
      "   macro avg       1.00      1.00      1.00     15104\n",
      "weighted avg       1.00      1.00      1.00     15104\n",
      "\n"
     ]
    }
   ],
   "source": [
    "exp_newlab_filter = np.concatenate((np.full(len(true_positives), 'tp'), np.full(len(true_negatives), 'tn'), np.full(len(false_positives), 'fp')))\n",
    "\n",
    "y_pred = IDS_alert(exp_newset, threshold=0.4997, filter=True)\n",
    "\n",
    "# Print classification report\n",
    "print(classification_report(exp_newlab_filter, y_pred))"
   ]
  },
  {
   "cell_type": "markdown",
   "metadata": {},
   "source": [
    "## Now we evaluate performance using VERITAS"
   ]
  },
  {
   "cell_type": "code",
   "execution_count": null,
   "metadata": {},
   "outputs": [],
   "source": [
    "import veritas\n",
    "\n",
    "def veritas_attack(model, samples, labels, epsilon, timeout=1, search_steps=100, verbose=False):\n",
    "    adversarial_examples, true_labels = [], []\n",
    "    assert len(np.unique(np.asarray(y_test))), \"Input must be a binary-classification problem with labels 0/1\"\n",
    "    assert np.min(X_test_nr)>=0 and np.max(X_test_nr)<=1.0, \"Input Dataset must be Min-Max Normalised\"\n",
    "    at = veritas.get_addtree(model)\n",
    "    print(\"\\nFinding Adversarial Examples using Veritas:\")\n",
    "    for i in tqdm(range(len(labels))):\n",
    "        base_example = samples[i]\n",
    "        true_label = labels[i]\n",
    "        if model.predict([base_example]) != true_label:\n",
    "            if verbose:\n",
    "                print(i, \"Skipping Misclassified Sample\",\"\\n\")\n",
    "            continue\n",
    "        heur = veritas.HeuristicType.MAX_OUTPUT if true_label == 0 else veritas.HeuristicType.MIN_OUTPUT\n",
    "        config = veritas.Config(heur)\n",
    "        config.ignore_state_when_worse_than = 0.0\n",
    "        prune_box = [veritas.Interval(max(0.0, x-epsilon), min(1.0, x+epsilon)) for x in base_example]\n",
    "        search = config.get_search(at, prune_box)\n",
    "        stop_reason = search.step_for(timeout, search_steps) \n",
    "        while search.num_solutions() == 0:\n",
    "            if search.steps(search_steps) == veritas.StopReason.NO_MORE_OPEN or stop_reason:\n",
    "                if verbose:\n",
    "                    print(i, \"Timeout & Skipped\",\"\\n\") \n",
    "                break\n",
    "        if search.num_solutions() > 0:\n",
    "            sol = search.get_solution(0)\n",
    "            adv_example = veritas.get_closest_example(sol, base_example, eps=1e-4)\n",
    "            predicted_label = int(model.predict([adv_example]))\n",
    "            l_inf = np.max(np.abs(base_example - adv_example))\n",
    "            if int(predicted_label) != int(true_label) and l_inf < epsilon:\n",
    "                adversarial_examples.append(adv_example)\n",
    "                true_labels.append(true_label)\n",
    "                if verbose:\n",
    "                    print(i, \"True Label:\", str(true_label), \"--> Adversarial Label:\", str(predicted_label), \"L-inf:\", l_inf, \"\\n\")\n",
    "            else:\n",
    "                if verbose:\n",
    "                    print(i, \"Debugging Needed\",\"\\n\") \n",
    "                    break\n",
    "        else:\n",
    "            if verbose:\n",
    "                pass\n",
    "                print(i, \"No Adversarial Example Found\",\"\\n\")\n",
    "    print(\"\\nFound:\", len(adversarial_examples), \"| Split:\", Counter(true_labels))\n",
    "    return adversarial_examples, true_labels"
   ]
  },
  {
   "cell_type": "code",
   "execution_count": null,
   "metadata": {},
   "outputs": [
    {
     "name": "stdout",
     "output_type": "stream",
     "text": [
      "\n",
      "| XGBOOST's base_score\n",
      "|   base_score diff std      0.0 OK\n",
      "|   base_score reported      0.5\n",
      "|   versus manually detected 0.00031377664163301233\n",
      "|   abs err                  0.499686223358367\n",
      "|   rel err                  0.999372446716734\n",
      "|   (!) base_score NOT THE SAME with relative tolerance 0.0005\n",
      "\n",
      "\n",
      "Finding Adversarial Examples using Veritas:\n"
     ]
    },
    {
     "name": "stderr",
     "output_type": "stream",
     "text": [
      "100%|██████████| 3776/3776 [01:50<00:00, 34.24it/s] "
     ]
    },
    {
     "name": "stdout",
     "output_type": "stream",
     "text": [
      "\n",
      "Found: 0 | Split: Counter()\n"
     ]
    },
    {
     "name": "stderr",
     "output_type": "stream",
     "text": [
      "\n"
     ]
    }
   ],
   "source": [
    "adversarial_examples, true_labels = veritas_attack(model1, np.asarray(X_test_nr), np.asarray(y_test_nr), delta)"
   ]
  },
  {
   "cell_type": "markdown",
   "metadata": {},
   "source": [
    "Apparently, VERITAS could not find any adversarial examples! "
   ]
  },
  {
   "cell_type": "markdown",
   "metadata": {},
   "source": [
    "## Then we evaluate using GROOT!"
   ]
  },
  {
   "cell_type": "code",
   "execution_count": null,
   "metadata": {},
   "outputs": [
    {
     "name": "stderr",
     "output_type": "stream",
     "text": [
      "[Parallel(n_jobs=10)]: Using backend LokyBackend with 10 concurrent workers.\n",
      "[Parallel(n_jobs=10)]: Done  30 tasks      | elapsed:   14.6s\n",
      "[Parallel(n_jobs=10)]: Done  50 out of  50 | elapsed:   16.1s finished\n"
     ]
    },
    {
     "data": {
      "text/plain": [
       "GrootRandomForestClassifier(attack_model=[0.0001, 0.0001, 0.0001, 0.0001,\n",
       "                                          0.0001, 0.0001, 0.0001, 0.0001,\n",
       "                                          0.0001, 0.0001, 0.0001, 0.0001],\n",
       "                            max_depth=5, n_estimators=50, n_jobs=10,\n",
       "                            random_state=42, verbose=True)"
      ]
     },
     "execution_count": 36,
     "metadata": {},
     "output_type": "execute_result"
    }
   ],
   "source": [
    "from groot.model import GrootRandomForestClassifier\n",
    "forest = GrootRandomForestClassifier(n_estimators=50, max_depth=5, attack_model = [delta] * X_train.shape[1], random_state=42, verbose=True, n_jobs=10)\n",
    "\n",
    "forest.fit(np.asarray(X_train), np.asarray(y_train))"
   ]
  },
  {
   "cell_type": "code",
   "execution_count": null,
   "metadata": {},
   "outputs": [],
   "source": [
    "y_pred = forest.predict(test_set)"
   ]
  },
  {
   "cell_type": "code",
   "execution_count": null,
   "metadata": {},
   "outputs": [
    {
     "name": "stdout",
     "output_type": "stream",
     "text": [
      "Acc:  1.0 \n",
      "F1-Score:  1.0 \n",
      "MCC:  1.0\n",
      "Rec:  1.0 \n",
      "Prec:  1.0 \n",
      "AUC:  1.0\n",
      "True Positive Rate (TPR): 1.000\n",
      "True Negative Rate (TNR): 1.000\n",
      "False Positive Rate (FPR): 0.000\n",
      "False Negative Rate (FNR): 0.000\n"
     ]
    }
   ],
   "source": [
    "from sklearn.metrics import roc_auc_score\n",
    "\n",
    "print(\"Acc: \", round(accuracy_score(y_pred, test_lab), 3), \"\\nF1-Score: \", round(f1_score(y_pred, test_lab), 3), \"\\nMCC: \", round(matthews_corrcoef(y_pred, test_lab),3))\n",
    "print(\"Rec: \", round(recall_score(y_pred, test_lab), 3), \"\\nPrec: \", round(precision_score(y_pred, test_lab), 3), \"\\nAUC: \", round(roc_auc_score(y_pred, test_lab), 3))\n",
    "# Calculate confusion matrix\n",
    "tn, fp, fn, tp = confusion_matrix(test_lab, y_pred).ravel()\n",
    "# Calculate rates\n",
    "tpr = tp / (tp + fn)  # True Positive Rate\n",
    "fpr = fp / (fp + tn)  # False Positive Rate\n",
    "tnr = tn / (tn + fp)  # True Negative Rate\n",
    "fnr = fn / (fn + tp)  # False Negative Rate\n",
    "# Print rates\n",
    "print(f\"True Positive Rate (TPR): {tpr:.3f}\")\n",
    "print(f\"True Negative Rate (TNR): {tnr:.3f}\")\n",
    "print(f\"False Positive Rate (FPR): {fpr:.3f}\")\n",
    "print(f\"False Negative Rate (FNR): {fnr:.3f}\")"
   ]
  },
  {
   "cell_type": "markdown",
   "metadata": {},
   "source": [
    "## Then we evaluate using OC-Score!"
   ]
  },
  {
   "cell_type": "code",
   "execution_count": null,
   "metadata": {},
   "outputs": [
    {
     "name": "stdout",
     "output_type": "stream",
     "text": [
      "Training Accuracy: 1.000\n"
     ]
    }
   ],
   "source": [
    "ytrain_pred = model1.predict(X_train) # For the Reference Set\n",
    "acc_train = accuracy_score(y_train, ytrain_pred)\n",
    "print(f\"Training Accuracy: {acc_train:.3f}\")"
   ]
  },
  {
   "cell_type": "code",
   "execution_count": null,
   "metadata": {},
   "outputs": [],
   "source": [
    "# Find a reference set, e.g. set of correctly classified training examples\n",
    "xref_mask = ytrain_pred == y_train\n",
    "xref = X_train[xref_mask]\n",
    "dtype = np.uint16\n",
    "idref_train = model1.apply(xref).astype(dtype)"
   ]
  },
  {
   "cell_type": "code",
   "execution_count": null,
   "metadata": {},
   "outputs": [],
   "source": [
    "exp_df = pd.DataFrame(test_set, columns=X_test.columns)\n",
    "idref_exp = model1.apply(exp_df).astype(dtype)"
   ]
  },
  {
   "cell_type": "code",
   "execution_count": null,
   "metadata": {},
   "outputs": [
    {
     "data": {
      "image/png": "[encoded data removed]",
      "text/plain": [
       "<Figure size 640x480 with 1 Axes>"
      ]
     },
     "metadata": {},
     "output_type": "display_data"
    },
    {
     "name": "stdout",
     "output_type": "stream",
     "text": [
      "1\n"
     ]
    }
   ],
   "source": [
    "import ocscore\n",
    "\n",
    "S = ocscore.ocscores(idref_train, idref_exp)\n",
    "\n",
    "fpr, tpr, thresholds = roc_curve(test_lab_sym, S, drop_intermediate = False)\n",
    "roc_auc = auc(fpr, tpr)\n",
    "display = RocCurveDisplay(fpr=fpr, tpr=tpr, roc_auc=roc_auc, estimator_name='OC-Score')\n",
    "display.plot()\n",
    "plt.show()\n",
    "\n",
    "optimal_idx = np.argmax(tpr - fpr)\n",
    "threshold = round(thresholds[optimal_idx], 3)\n",
    "print(threshold)"
   ]
  },
  {
   "cell_type": "code",
   "execution_count": null,
   "metadata": {},
   "outputs": [],
   "source": [
    "def OC_predict(x, refset, threshold):\n",
    "    x = pd.DataFrame(x, columns=X_test.columns)\n",
    "    testset = model1.apply(x).astype(dtype)\n",
    "    S = ocscore.ocscores(refset, testset)\n",
    "    predictions, preds = [], model1.predict(np.asarray(x))\n",
    "    for score, pred in zip(S, preds):\n",
    "        if score <= threshold:\n",
    "            predictions.append(pred)\n",
    "        else:\n",
    "            predictions.append(abs(1-pred))\n",
    "    return predictions"
   ]
  },
  {
   "cell_type": "code",
   "execution_count": null,
   "metadata": {},
   "outputs": [],
   "source": [
    "y_pred = OC_predict(test_set, idref_train, threshold)"
   ]
  },
  {
   "cell_type": "code",
   "execution_count": null,
   "metadata": {},
   "outputs": [
    {
     "name": "stdout",
     "output_type": "stream",
     "text": [
      "Acc:  0.5 \n",
      "F1-Score:  0.5 \n",
      "MCC:  0.333\n",
      "Rec:  0.333 \n",
      "Prec:  1.0 \n",
      "AUC:  0.5\n",
      "True Positive Rate (TPR): 1.000\n",
      "True Negative Rate (TNR): 0.333\n",
      "False Positive Rate (FPR): 0.667\n",
      "False Negative Rate (FNR): 0.000\n"
     ]
    }
   ],
   "source": [
    "fpr, tpr, thresholds = roc_curve(test_lab_sym, S)\n",
    "roc_auc = auc(fpr, tpr)\n",
    "print(\"Acc: \", round(accuracy_score(y_pred, test_lab), 3), \"\\nF1-Score: \", round(f1_score(y_pred, test_lab), 3), \"\\nMCC: \", round(matthews_corrcoef(y_pred, test_lab),3))\n",
    "print(\"Rec: \", round(recall_score(y_pred, test_lab), 3), \"\\nPrec: \", round(precision_score(y_pred, test_lab), 3), \"\\nAUC: \", round(roc_auc, 3))\n",
    "# Calculate confusion matrix\n",
    "tn, fp, fn, tp = confusion_matrix(test_lab, y_pred).ravel()\n",
    "# Calculate rates\n",
    "tpr = tp / (tp + fn)  # True Positive Rate\n",
    "fpr = fp / (fp + tn)  # False Positive Rate\n",
    "tnr = tn / (tn + fp)  # True Negative Rate\n",
    "fnr = fn / (fn + tp)  # False Negative Rate\n",
    "# Print rates\n",
    "print(f\"True Positive Rate (TPR): {tpr:.3f}\")\n",
    "print(f\"True Negative Rate (TNR): {tnr:.3f}\")\n",
    "print(f\"False Positive Rate (FPR): {fpr:.3f}\")\n",
    "print(f\"False Negative Rate (FNR): {fnr:.3f}\")"
   ]
  },
  {
   "cell_type": "markdown",
   "metadata": {},
   "source": [
    "## Timing Experiments!"
   ]
  },
  {
   "cell_type": "code",
   "execution_count": null,
   "metadata": {},
   "outputs": [],
   "source": [
    "runs = 100"
   ]
  },
  {
   "cell_type": "code",
   "execution_count": null,
   "metadata": {},
   "outputs": [
    {
     "name": "stdout",
     "output_type": "stream",
     "text": [
      "Complete!\n"
     ]
    }
   ],
   "source": [
    "times_1_iceman = []\n",
    "\n",
    "for _ in tqdm(range(runs)):\n",
    "    time_output = %timeit -o -n 1 -r 1 -q y_pred = IDS(test_set, threshold=0.4997)\n",
    "    times_1_iceman.append(time_output.average)\n",
    "\n",
    "with open('/home/ubuntu/IDS/times/times_1_iceman.pkl', 'wb') as f:\n",
    "    pickle.dump(times_1_iceman, f)\n",
    "print(\"Complete!\")"
   ]
  },
  {
   "cell_type": "code",
   "execution_count": null,
   "metadata": {},
   "outputs": [
    {
     "name": "stderr",
     "output_type": "stream",
     "text": [
      "100%|██████████| 100/100 [00:03<00:00, 30.35it/s]"
     ]
    },
    {
     "name": "stdout",
     "output_type": "stream",
     "text": [
      "Complete!\n"
     ]
    },
    {
     "name": "stderr",
     "output_type": "stream",
     "text": [
      "\n"
     ]
    }
   ],
   "source": [
    "times_1_groot = []\n",
    "\n",
    "for _ in tqdm(range(runs)):\n",
    "    time_output = %timeit -o -n 1 -r 1 -q y_pred = forest.predict(test_set)\n",
    "    times_1_groot.append(time_output.average)\n",
    "\n",
    "with open('/home/ubuntu/IDS/times/times_1_groot.pkl', 'wb') as f:\n",
    "    pickle.dump(times_1_groot, f)\n",
    "print(\"Complete!\")"
   ]
  },
  {
   "cell_type": "code",
   "execution_count": null,
   "metadata": {},
   "outputs": [
    {
     "name": "stdout",
     "output_type": "stream",
     "text": [
      "Complete!\n"
     ]
    }
   ],
   "source": [
    "times_1_ocscore = []\n",
    "\n",
    "for _ in tqdm(range(runs)):\n",
    "    time_output = %timeit -o -n 1 -r 1 -q y_pred = OC_predict(test_set, idref_train, threshold)\n",
    "    times_1_ocscore.append(time_output.average)\n",
    "\n",
    "with open('/home/ubuntu/IDS/times/times_1_ocscore.pkl', 'wb') as f:\n",
    "    pickle.dump(times_1_ocscore, f)\n",
    "print(\"Complete!\")"
   ]
  }
 ],
 "metadata": {
  "kernelspec": {
   "display_name": "Python 3",
   "language": "python",
   "name": "python3"
  },
  "language_info": {
   "codemirror_mode": {
    "name": "ipython",
    "version": 3
   },
   "file_extension": ".py",
   "mimetype": "text/x-python",
   "name": "python",
   "nbconvert_exporter": "python",
   "pygments_lexer": "ipython3",
   "version": "3.8.10"
  }
 },
 "nbformat": 4,
 "nbformat_minor": 2
}
